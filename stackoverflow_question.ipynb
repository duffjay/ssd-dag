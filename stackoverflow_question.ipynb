{
 "cells": [
  {
   "cell_type": "code",
   "execution_count": null,
   "metadata": {},
   "outputs": [],
   "source": [
    "import tensorflow as tf\n",
    "import json\n",
    "\n",
    "# helper function to create a bytes list feature\n",
    "def bytes_feature(value):\n",
    "    return tf.train.Feature(bytes_list=tf.train.BytesList(value=[value]))\n",
    "\n",
    "# read an image - encoded_jpg is type=bytes\n",
    "SAMPLE_IMAGE = \"/home/ec2-user/SageMaker/ssd-dag/data/jpeg_images/20190710_variety_1562781002.jpg\"\n",
    "with tf.io.gfile.GFile(SAMPLE_IMAGE, 'rb') as fid:\n",
    "    encoded_jpg = fid.read()\n",
    "\n",
    "# tf_example = <class 'tensorflow.core.example.example_pb2.Example'>\n",
    "tf_example = tf.train.Example(features=tf.train.Features(feature={'image/encoded': bytes_feature(encoded_jpg)}))\n",
    "\n",
    "# serialize to bytes; ser_tf_example = <class 'bytes'>\n",
    "ser_tf_example = tf_example.SerializeToString()\n",
    "\n",
    "# neither Example or bytes will serialize\n",
    "# myDict = {\"serialized_example\": tf_example}  # class = 'dict'\n",
    "myDict = {\"serialized_example\": ser_tf_example}\n",
    "\n",
    "# Example is not JSON serializable\n",
    "# bytes is not JSON serializable\n",
    "data = json.dumps(myDict)\n"
   ]
  },
  {
   "cell_type": "code",
   "execution_count": null,
   "metadata": {},
   "outputs": [],
   "source": [
    "print(data)"
   ]
  },
  {
   "cell_type": "code",
   "execution_count": null,
   "metadata": {},
   "outputs": [],
   "source": []
  }
 ],
 "metadata": {
  "kernelspec": {
   "display_name": "conda_tensorflow_p36",
   "language": "python",
   "name": "conda_tensorflow_p36"
  },
  "language_info": {
   "codemirror_mode": {
    "name": "ipython",
    "version": 3
   },
   "file_extension": ".py",
   "mimetype": "text/x-python",
   "name": "python",
   "nbconvert_exporter": "python",
   "pygments_lexer": "ipython3",
   "version": "3.6.5"
  }
 },
 "nbformat": 4,
 "nbformat_minor": 2
}
