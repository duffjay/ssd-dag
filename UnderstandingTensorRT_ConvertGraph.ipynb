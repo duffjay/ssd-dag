{
 "cells": [
  {
   "cell_type": "markdown",
   "metadata": {},
   "source": [
    "# Understanding TensorRT - Convert Graph"
   ]
  },
  {
   "cell_type": "markdown",
   "metadata": {},
   "source": [
    "## Convert the Model\n",
    "1. checkpoint -> Frozen TensorFlow graph  \n",
    "2. Frozen TensorFlow graph -> TFLite  \n",
    "3a. TFLite -> EdgeTPU (Google Coral)  \n",
    "3b. TFLite -> TensorRT (NVIDIA GPU)  \n",
    "\n",
    "See TrainModel_Step3_TrainingJob.ipynb  \n",
    "In this notebook, you'll see a simple script /tasks/covert_checkpoint_to_edgetpu_flight.sh  \n",
    "that does all of this for you.\n",
    "\n",
    "This notebook will look at \n",
    "- Individual Steps : this is here to help you debug and understand  \n",
    "- Simple - just use the script : this is here if you know what your doing and everything works fine  \n"
   ]
  },
  {
   "cell_type": "code",
   "execution_count": null,
   "metadata": {},
   "outputs": [],
   "source": [
    "import os\n",
    "import sys"
   ]
  },
  {
   "cell_type": "code",
   "execution_count": null,
   "metadata": {},
   "outputs": [],
   "source": [
    "import tensorflow as tf\n",
    "\n",
    "print (tf.__version__)"
   ]
  },
  {
   "cell_type": "markdown",
   "metadata": {},
   "source": [
    "## Individual Steps"
   ]
  },
  {
   "cell_type": "code",
   "execution_count": null,
   "metadata": {},
   "outputs": [],
   "source": [
    "# GLOBALS so work with the bash scripts\n",
    "PROJECT_DIR = os.getcwd()\n",
    "TASKS_DIR = os.path.join(PROJECT_DIR, 'tasks')\n",
    "CODE_DIR = os.path.join(PROJECT_DIR, 'code')\n",
    "TFLITE_DIR = os.path.join(PROJECT_DIR, 'tflite_model')\n",
    "TENSORFLOW_DIR = os.path.join(PROJECT_DIR, 'tensorflow_model')\n",
    "MODEL_RESEARCH_DIR = os.path.join(PROJECT_DIR, 'code/models/research')\n",
    "SLIM_DIR = os.path.join(MODEL_RESEARCH_DIR, 'slim')\n",
    "TRAINED_DIR = os.path.join(PROJECT_DIR, 'trained_model')\n"
   ]
  },
  {
   "cell_type": "code",
   "execution_count": null,
   "metadata": {},
   "outputs": [],
   "source": [
    "# add to the Python path\n",
    "# without this PATH append\n",
    "# it won't find nets - in the /slim directory\n",
    "sys.path.append(MODEL_RESEARCH_DIR)\n",
    "sys.path.append(SLIM_DIR)"
   ]
  },
  {
   "cell_type": "code",
   "execution_count": null,
   "metadata": {},
   "outputs": [],
   "source": [
    "! echo {CODE_DIR}\n",
    "! ls {MODEL_RESEARCH_DIR}/object_detection/export_inference_graph.py"
   ]
  },
  {
   "cell_type": "code",
   "execution_count": null,
   "metadata": {},
   "outputs": [],
   "source": [
    "ls {MODEL_RESEARCH_DIR}"
   ]
  },
  {
   "cell_type": "code",
   "execution_count": null,
   "metadata": {},
   "outputs": [],
   "source": [
    "! python ${MODEL_RESEARCH_DIR}object_detection/export_inference_graph.py --input_type image_tensor --pipeline_config_path={CODE_DIR}/{pipeline_config}  --trained_checkpoint_prefix={TRAINED_DIR}/model.ckpt-{ckpt_number} --output_directory={TENSORFLOW_DIR}"
   ]
  },
  {
   "cell_type": "markdown",
   "metadata": {},
   "source": [
    "## Simple - just use the script"
   ]
  },
  {
   "cell_type": "code",
   "execution_count": null,
   "metadata": {},
   "outputs": [],
   "source": [
    "#### Convert (Trained) Model Checkpoint to a tflite Model\n",
    "\n",
    "\n",
    "ALSO NOTE:  the script is named convert_checkpoint_to_edge_tflite.sh  \n",
    "Well... the name is no longer totally accurate\n",
    "- I took this from the original Coral TPU tutorial\n",
    "- Another step is required for compiling for the EdgeTPU (not really relevant here since we are confined to AWS where there is no TPU -- so we skip that stuff)\n",
    "- And, I added a step that converts the checkpoint to a TENSORFLOW frozen graph \n",
    "  - note that this generates a frozen_inference_graph.pb\n",
    "  - it ALSO generates a saved model graph.pb  \n",
    "  THESE (frozen graph & saved model) are NOT the SAME!!  \n",
    "  \n",
    "https://stackoverflow.com/questions/46547319/error-when-parsing-graph-def-from-string\n",
    "\n",
    "https://github.com/tensorflow/models/blob/master/research/object_detection/g3doc/exporting_models.md"
   ]
  },
  {
   "cell_type": "code",
   "execution_count": null,
   "metadata": {},
   "outputs": [],
   "source": [
    "! ls code/model"
   ]
  },
  {
   "cell_type": "code",
   "execution_count": null,
   "metadata": {},
   "outputs": [],
   "source": [
    "# WAKE UP - make sure the checkpoint num == hyperparameters/num_train_steps\n",
    "# convert checkpoint is a task script - located in the tasks/ directory\n",
    "os.chdir(\"tasks\")  \n",
    "! ./convert_checkpoint_to_edgetpu_tflite.sh --checkpoint_num {NUM_TRAINING_STEPS} --pipeline_config {PIPELINE_CONFIG}\n"
   ]
  },
  {
   "cell_type": "code",
   "execution_count": null,
   "metadata": {},
   "outputs": [],
   "source": [
    "# https://www.tensorflow.org/lite/convert/python_api#using_the_interpreter_from_a_model_file_\n",
    "\n",
    "# Convert the model.\n",
    "converter = tf.lite.TFLiteConverter.from_saved_model('code/model')\n",
    "tflite_model = converter.convert()"
   ]
  }
 ],
 "metadata": {
  "kernelspec": {
   "display_name": "conda_tensorflow_p36",
   "language": "python",
   "name": "conda_tensorflow_p36"
  },
  "language_info": {
   "codemirror_mode": {
    "name": "ipython",
    "version": 3
   },
   "file_extension": ".py",
   "mimetype": "text/x-python",
   "name": "python",
   "nbconvert_exporter": "python",
   "pygments_lexer": "ipython3",
   "version": "3.6.5"
  }
 },
 "nbformat": 4,
 "nbformat_minor": 2
}
