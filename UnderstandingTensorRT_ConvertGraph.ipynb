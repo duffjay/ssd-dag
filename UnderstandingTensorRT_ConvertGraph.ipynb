{
 "cells": [
  {
   "cell_type": "markdown",
   "metadata": {},
   "source": [
    "# Understanding TensorRT - Convert Graph"
   ]
  },
  {
   "cell_type": "code",
   "execution_count": null,
   "metadata": {},
   "outputs": [],
   "source": [
    "## Convert the Model\n",
    "### Step 1 - convert the checkpoint to TensorFlow Lite\n",
    "\n",
    "See TrainModel_Step3_TrainingJob.ipynb"
   ]
  },
  {
   "cell_type": "code",
   "execution_count": null,
   "metadata": {},
   "outputs": [],
   "source": [
    "#### Convert (Trained) Model Checkpoint to a tflite Model\n",
    "\n",
    "\n",
    "ALSO NOTE:  the script is named convert_checkpoint_to_edge_tflite.sh  \n",
    "Well... the name is no longer totally accurate\n",
    "- I took this from the original Coral TPU tutorial\n",
    "- Another step is required for compiling for the EdgeTPU (not really relevant here since we are confined to AWS where there is no TPU -- so we skip that stuff)\n",
    "- And, I added a step that converts the checkpoint to a TENSORFLOW frozen graph \n",
    "  - note that this generates a frozen_inference_graph.pb\n",
    "  - it ALSO generates a saved model graph.pb  \n",
    "  THESE (frozen graph & saved model) are NOT the SAME!!  \n",
    "  \n",
    "https://stackoverflow.com/questions/46547319/error-when-parsing-graph-def-from-string\n",
    "\n",
    "https://github.com/tensorflow/models/blob/master/research/object_detection/g3doc/exporting_models.md"
   ]
  },
  {
   "cell_type": "code",
   "execution_count": null,
   "metadata": {},
   "outputs": [],
   "source": [
    "! ls code/model"
   ]
  },
  {
   "cell_type": "code",
   "execution_count": null,
   "metadata": {},
   "outputs": [],
   "source": [
    "# WAKE UP - make sure the checkpoint num == hyperparameters/num_train_steps\n",
    "# convert checkpoint is a task script - located in the tasks/ directory\n",
    "os.chdir(\"tasks\")  \n",
    "! ./convert_checkpoint_to_edgetpu_tflite.sh --checkpoint_num {NUM_TRAINING_STEPS} --pipeline_config {PIPELINE_CONFIG}\n"
   ]
  },
  {
   "cell_type": "code",
   "execution_count": null,
   "metadata": {},
   "outputs": [],
   "source": [
    "# https://www.tensorflow.org/lite/convert/python_api#using_the_interpreter_from_a_model_file_\n",
    "\n",
    "# Convert the model.\n",
    "converter = tf.lite.TFLiteConverter.from_saved_model('code/model')\n",
    "tflite_model = converter.convert()"
   ]
  }
 ],
 "metadata": {
  "kernelspec": {
   "display_name": "Python (tensorRT)",
   "language": "python",
   "name": "tensorrt"
  },
  "language_info": {
   "codemirror_mode": {
    "name": "ipython",
    "version": 3
   },
   "file_extension": ".py",
   "mimetype": "text/x-python",
   "name": "python",
   "nbconvert_exporter": "python",
   "pygments_lexer": "ipython3",
   "version": "3.6.10"
  }
 },
 "nbformat": 4,
 "nbformat_minor": 2
}
