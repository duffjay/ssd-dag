{
 "cells": [
  {
   "cell_type": "markdown",
   "metadata": {},
   "source": [
    "# Detect Model\n",
    "## Step 3 - Deploy Model as TensorFlow Lite to an endpoint\n",
    "This is consistent with the AWS Tutorial"
   ]
  },
  {
   "cell_type": "code",
   "execution_count": null,
   "metadata": {},
   "outputs": [],
   "source": [
    "import os\n",
    "import sys\n",
    "import time\n",
    "import logging\n",
    "\n",
    "import tensorflow as tf\n",
    "# from tensorflow.contrib.eager.python import tfe\n"
   ]
  },
  {
   "cell_type": "code",
   "execution_count": null,
   "metadata": {},
   "outputs": [],
   "source": [
    "# without this PATH append\n",
    "# it won't find nets - in the /slim directory\n",
    "cwd = os.getcwd()\n",
    "code = os.path.join(cwd, 'code')\n",
    "tf_models = os.path.join(cwd, 'models/research/')\n",
    "slim = os.path.join(cwd, 'models/research/slim')\n",
    "sys.path.append(code)\n",
    "sys.path.append(tf_models)\n",
    "sys.path.append(slim)"
   ]
  },
  {
   "cell_type": "code",
   "execution_count": null,
   "metadata": {},
   "outputs": [],
   "source": [
    "# this package is part of our project\n",
    "from tflite_interpreter import get_tflite_interpreterer"
   ]
  },
  {
   "cell_type": "markdown",
   "metadata": {},
   "source": [
    "## Globals"
   ]
  },
  {
   "cell_type": "code",
   "execution_count": null,
   "metadata": {},
   "outputs": [],
   "source": [
    "PROJECT_DIR = os.getcwd()\n",
    "IMAGE_DIR = os.path.join(PROJECT_DIR, \"data/new_jpeg_immages\")\n",
    "MODEL_CKPT = os.path.join(PROJECT_DIR, \"trained_model/model.ckpt-5000.data-00000-of-00001\")"
   ]
  },
  {
   "cell_type": "markdown",
   "metadata": {},
   "source": [
    "## Environment"
   ]
  },
  {
   "cell_type": "code",
   "execution_count": null,
   "metadata": {},
   "outputs": [],
   "source": [
    "# NOTE - you may have to change this if you  do/don't have a GPU on the instance\n",
    "#      - if you are using a pX.Xxlarge (e.g. p2 or p3) - you have a GPU\n",
    "\n",
    "tf.keras.backend.clear_session()\n",
    "# device = '/cpu:0' \n",
    "device = '/gpu:0'"
   ]
  },
  {
   "cell_type": "markdown",
   "metadata": {},
   "source": [
    "## Load the TFLite model"
   ]
  },
  {
   "cell_type": "code",
   "execution_count": null,
   "metadata": {},
   "outputs": [],
   "source": [
    "# need a logger\n",
    "logging.basicConfig(\n",
    "    stream=sys.stdout,\n",
    "    format='%(asctime)s - %(name)s - %(levelname)s - %(message)s',\n",
    "    datefmt=' %I:%M:%S ',\n",
    "    level=\"INFO\"\n",
    ")\n",
    "logger = logging.getLogger('detector')\n",
    "logging.getLogger().setLevel(logging.INFO)"
   ]
  },
  {
   "cell_type": "code",
   "execution_count": null,
   "metadata": {},
   "outputs": [],
   "source": [
    "logger.info('TF Lite Model loading...')\n",
    "interpreter = get_tflite_interpreterer(logger, args.model_path)\n",
    "input_details = interpreter.get_input_details()\n",
    "output_details = interpreter.get_output_details()\n",
    "model_input_shape = input_shape = input_details[0]['shape']   # (batch, h, w, channels)\n",
    "model_image_dim = (model_input_shape[1], model_input_shape[2])    # model - image dimension\n",
    "model_input_dim = (1, model_input_shape[1], model_input_shape[2], 3) # model - batch of images dimensions\n",
    "logger.info(\"Model Input Dimension: {}\".format(model_input_dim))"
   ]
  },
  {
   "cell_type": "markdown",
   "metadata": {},
   "source": [
    "## Data\n",
    "Is the image normalized???\n",
    "See the graph parameters"
   ]
  }
 ],
 "metadata": {
  "kernelspec": {
   "display_name": "conda_tensorflow_p36",
   "language": "python",
   "name": "conda_tensorflow_p36"
  },
  "language_info": {
   "codemirror_mode": {
    "name": "ipython",
    "version": 3
   },
   "file_extension": ".py",
   "mimetype": "text/x-python",
   "name": "python",
   "nbconvert_exporter": "python",
   "pygments_lexer": "ipython3",
   "version": "3.6.5"
  }
 },
 "nbformat": 4,
 "nbformat_minor": 2
}
