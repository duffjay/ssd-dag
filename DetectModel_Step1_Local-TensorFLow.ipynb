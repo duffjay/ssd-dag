{
 "cells": [
  {
   "cell_type": "markdown",
   "metadata": {},
   "source": [
    "# Detect (with the) Model\n",
    "## Step 1 - run the TENSORFLOW model locally\n",
    "\n",
    "In this notebook, we are replicating  some of the original MobileNet TensorFlow functionality.  \n",
    "ref: https://github.com/tensorflow/models/blob/master/research/object_detection/object_detection_tutorial.ipynb\n",
    "\n",
    "(Don't confuse with TensorFlow Lite - for tflite - we have a detect.py program to make this easy and tflite is easier by nature.)\n",
    "\n",
    "We are doing this because I don't understand how to get data into the TensorFlow model - and we need to fully understand that before interacting with a SageMaker HOSTED endpoint"
   ]
  },
  {
   "cell_type": "code",
   "execution_count": 7,
   "metadata": {},
   "outputs": [],
   "source": [
    "import numpy as np\n",
    "import os\n",
    "import six.moves.urllib as urllib\n",
    "import sys\n",
    "import tarfile\n",
    "import tensorflow as tf\n",
    "import zipfile\n",
    "\n",
    "from distutils.version import StrictVersion\n",
    "from collections import defaultdict\n",
    "from io import StringIO\n",
    "from matplotlib import pyplot as plt\n",
    "from PIL import Image\n",
    "\n",
    "# This is needed since we cloned tensorflow/models under code.\n",
    "cwd = os.getcwd()\n",
    "models = os.path.join(cwd, 'code/models/research/')\n",
    "slim = os.path.join(cwd, 'code/models/research/slim')\n",
    "sys.path.append(models)\n",
    "sys.path.append(slim)\n",
    "\n",
    "from object_detection.utils import ops as utils_ops"
   ]
  },
  {
   "cell_type": "code",
   "execution_count": 9,
   "metadata": {},
   "outputs": [],
   "source": [
    "from object_detection.utils import label_map_util\n",
    "from object_detection.utils import visualization_utils as vis_util"
   ]
  },
  {
   "cell_type": "markdown",
   "metadata": {},
   "source": [
    "## Global Environment Variables\n",
    "\n",
    "We are using objects and scripts in the project as much as possible.   They require environment variables to pass along where stuff is stored"
   ]
  },
  {
   "cell_type": "code",
   "execution_count": 22,
   "metadata": {},
   "outputs": [],
   "source": [
    "PROJECT_DIR = os.getcwd()\n",
    "IMAGE_DIR = os.path.join(PROJECT_DIR, \"data/new_jpeg_images\")\n",
    "MODEL_PATH = os.path.join(PROJECT_DIR, \"tensorflow_model/frozen_inference_graph.pb\")\n",
    "LABEL_MAP = os.path.join(PROJECT_DIR, \"code/cfa_prod_label_map.pbtxt\")\n",
    "ANNOTATION_DIR = os.path.join(PROJECT_DIR, \"data/unverified_annotations\")\n",
    "S3_TEST_IMAGES = \"s3://cfaanalyticsresearch-sagemaker/datasets/cfa_products/test_images/\""
   ]
  },
  {
   "cell_type": "code",
   "execution_count": null,
   "metadata": {},
   "outputs": [],
   "source": [
    "# This is needed to display the images.\n",
    "%matplotlib inline"
   ]
  },
  {
   "cell_type": "markdown",
   "metadata": {},
   "source": [
    "## Model Preparation\n",
    "\n",
    "- The training job generated a checkpoint file.  \n",
    "- Then you converted the checkpoint\n",
    "  - to a frozen_inference_graph.pb\n",
    "  - to a saved_graph.pb  \n",
    "  BOTH using TensorFlow Utilities - BUT - they aren't the same format\n",
    "  \n",
    "#### Here you need a frozen INFERENCE Graph"
   ]
  },
  {
   "cell_type": "code",
   "execution_count": 24,
   "metadata": {},
   "outputs": [
    {
     "name": "stdout",
     "output_type": "stream",
     "text": [
      "<class 'tensorflow.core.framework.graph_pb2.GraphDef'>\n"
     ]
    }
   ],
   "source": [
    "detection_graph = tf.Graph()\n",
    "with detection_graph.as_default():\n",
    "  od_graph_def = tf.GraphDef()\n",
    "  print (type(od_graph_def))\n",
    "  with tf.gfile.GFile(MODEL_PATH, 'rb') as fid:\n",
    "    serialized_graph = fid.read()\n",
    "    od_graph_def.ParseFromString(serialized_graph)\n",
    "    tf.import_graph_def(od_graph_def, name='')"
   ]
  },
  {
   "cell_type": "markdown",
   "metadata": {},
   "source": [
    "### Load Label Map"
   ]
  },
  {
   "cell_type": "code",
   "execution_count": 26,
   "metadata": {},
   "outputs": [],
   "source": [
    "category_index = label_map_util.create_category_index_from_labelmap(LABEL_MAP, use_display_name=True)"
   ]
  },
  {
   "cell_type": "markdown",
   "metadata": {},
   "source": [
    "## Retreive Data\n",
    "Copy the test images locally"
   ]
  },
  {
   "cell_type": "code",
   "execution_count": 5,
   "metadata": {},
   "outputs": [
    {
     "name": "stdout",
     "output_type": "stream",
     "text": [
      "download: s3://cfaanalyticsresearch-sagemaker/datasets/cfa_products/test_images/20190710_variety_1562781002.jpg to data/new_jpeg_images/20190710_variety_1562781002.jpg\n",
      "download: s3://cfaanalyticsresearch-sagemaker/datasets/cfa_products/test_images/20190710_variety_1562780999.jpg to data/new_jpeg_images/20190710_variety_1562780999.jpg\n",
      "download: s3://cfaanalyticsresearch-sagemaker/datasets/cfa_products/test_images/20190710_variety_1562780998.jpg to data/new_jpeg_images/20190710_variety_1562780998.jpg\n",
      "download: s3://cfaanalyticsresearch-sagemaker/datasets/cfa_products/test_images/20190710_variety_1562781000.jpg to data/new_jpeg_images/20190710_variety_1562781000.jpg\n",
      "download: s3://cfaanalyticsresearch-sagemaker/datasets/cfa_products/test_images/20190710_variety_1562780997.jpg to data/new_jpeg_images/20190710_variety_1562780997.jpg\n",
      "download: s3://cfaanalyticsresearch-sagemaker/datasets/cfa_products/test_images/20190710_variety_1562781012.jpg to data/new_jpeg_images/20190710_variety_1562781012.jpg\n",
      "download: s3://cfaanalyticsresearch-sagemaker/datasets/cfa_products/test_images/20190710_variety_1562781004.jpg to data/new_jpeg_images/20190710_variety_1562781004.jpg\n",
      "download: s3://cfaanalyticsresearch-sagemaker/datasets/cfa_products/test_images/20190710_variety_1562781001.jpg to data/new_jpeg_images/20190710_variety_1562781001.jpg\n",
      "download: s3://cfaanalyticsresearch-sagemaker/datasets/cfa_products/test_images/20190710_variety_1562781005.jpg to data/new_jpeg_images/20190710_variety_1562781005.jpg\n",
      "download: s3://cfaanalyticsresearch-sagemaker/datasets/cfa_products/test_images/20190710_variety_1562781007.jpg to data/new_jpeg_images/20190710_variety_1562781007.jpg\n",
      "download: s3://cfaanalyticsresearch-sagemaker/datasets/cfa_products/test_images/20190710_variety_1562781003.jpg to data/new_jpeg_images/20190710_variety_1562781003.jpg\n",
      "download: s3://cfaanalyticsresearch-sagemaker/datasets/cfa_products/test_images/20190710_variety_1562781013.jpg to data/new_jpeg_images/20190710_variety_1562781013.jpg\n",
      "download: s3://cfaanalyticsresearch-sagemaker/datasets/cfa_products/test_images/20190710_variety_1562781008.jpg to data/new_jpeg_images/20190710_variety_1562781008.jpg\n",
      "download: s3://cfaanalyticsresearch-sagemaker/datasets/cfa_products/test_images/20190710_variety_1562781006.jpg to data/new_jpeg_images/20190710_variety_1562781006.jpg\n",
      "download: s3://cfaanalyticsresearch-sagemaker/datasets/cfa_products/test_images/20190710_variety_1562781009.jpg to data/new_jpeg_images/20190710_variety_1562781009.jpg\n",
      "download: s3://cfaanalyticsresearch-sagemaker/datasets/cfa_products/test_images/20190710_variety_1562781010.jpg to data/new_jpeg_images/20190710_variety_1562781010.jpg\n",
      "download: s3://cfaanalyticsresearch-sagemaker/datasets/cfa_products/test_images/20190710_variety_1562781020.jpg to data/new_jpeg_images/20190710_variety_1562781020.jpg\n",
      "download: s3://cfaanalyticsresearch-sagemaker/datasets/cfa_products/test_images/20190710_variety_1562781014.jpg to data/new_jpeg_images/20190710_variety_1562781014.jpg\n",
      "download: s3://cfaanalyticsresearch-sagemaker/datasets/cfa_products/test_images/20190710_variety_1562781016.jpg to data/new_jpeg_images/20190710_variety_1562781016.jpg\n",
      "download: s3://cfaanalyticsresearch-sagemaker/datasets/cfa_products/test_images/20190710_variety_1562781011.jpg to data/new_jpeg_images/20190710_variety_1562781011.jpg\n",
      "download: s3://cfaanalyticsresearch-sagemaker/datasets/cfa_products/test_images/20190710_variety_1562781017.jpg to data/new_jpeg_images/20190710_variety_1562781017.jpg\n",
      "download: s3://cfaanalyticsresearch-sagemaker/datasets/cfa_products/test_images/20190710_variety_1562781027.jpg to data/new_jpeg_images/20190710_variety_1562781027.jpg\n",
      "download: s3://cfaanalyticsresearch-sagemaker/datasets/cfa_products/test_images/20190710_variety_1562781022.jpg to data/new_jpeg_images/20190710_variety_1562781022.jpg\n",
      "download: s3://cfaanalyticsresearch-sagemaker/datasets/cfa_products/test_images/20190710_variety_1562781026.jpg to data/new_jpeg_images/20190710_variety_1562781026.jpg\n",
      "download: s3://cfaanalyticsresearch-sagemaker/datasets/cfa_products/test_images/20190710_variety_1562781021.jpg to data/new_jpeg_images/20190710_variety_1562781021.jpg\n",
      "download: s3://cfaanalyticsresearch-sagemaker/datasets/cfa_products/test_images/20190710_variety_1562781031.jpg to data/new_jpeg_images/20190710_variety_1562781031.jpg\n",
      "download: s3://cfaanalyticsresearch-sagemaker/datasets/cfa_products/test_images/20190710_variety_1562781025.jpg to data/new_jpeg_images/20190710_variety_1562781025.jpg\n",
      "download: s3://cfaanalyticsresearch-sagemaker/datasets/cfa_products/test_images/20190710_variety_1562781033.jpg to data/new_jpeg_images/20190710_variety_1562781033.jpg\n",
      "download: s3://cfaanalyticsresearch-sagemaker/datasets/cfa_products/test_images/20190710_variety_1562781030.jpg to data/new_jpeg_images/20190710_variety_1562781030.jpg\n",
      "download: s3://cfaanalyticsresearch-sagemaker/datasets/cfa_products/test_images/20190710_variety_1562781028.jpg to data/new_jpeg_images/20190710_variety_1562781028.jpg\n",
      "download: s3://cfaanalyticsresearch-sagemaker/datasets/cfa_products/test_images/20190710_variety_1562781035.jpg to data/new_jpeg_images/20190710_variety_1562781035.jpg\n",
      "download: s3://cfaanalyticsresearch-sagemaker/datasets/cfa_products/test_images/20190710_variety_1562781036.jpg to data/new_jpeg_images/20190710_variety_1562781036.jpg\n",
      "download: s3://cfaanalyticsresearch-sagemaker/datasets/cfa_products/test_images/20190710_variety_1562781034.jpg to data/new_jpeg_images/20190710_variety_1562781034.jpg\n",
      "download: s3://cfaanalyticsresearch-sagemaker/datasets/cfa_products/test_images/20190710_variety_1562781032.jpg to data/new_jpeg_images/20190710_variety_1562781032.jpg\n",
      "download: s3://cfaanalyticsresearch-sagemaker/datasets/cfa_products/test_images/20190710_variety_1562781038.jpg to data/new_jpeg_images/20190710_variety_1562781038.jpg\n",
      "download: s3://cfaanalyticsresearch-sagemaker/datasets/cfa_products/test_images/20190710_variety_1562781037.jpg to data/new_jpeg_images/20190710_variety_1562781037.jpg\n",
      "download: s3://cfaanalyticsresearch-sagemaker/datasets/cfa_products/test_images/20190710_variety_1562781018.jpg to data/new_jpeg_images/20190710_variety_1562781018.jpg\n",
      "download: s3://cfaanalyticsresearch-sagemaker/datasets/cfa_products/test_images/20190710_variety_1562781015.jpg to data/new_jpeg_images/20190710_variety_1562781015.jpg\n",
      "download: s3://cfaanalyticsresearch-sagemaker/datasets/cfa_products/test_images/20190710_variety_1562781029.jpg to data/new_jpeg_images/20190710_variety_1562781029.jpg\n",
      "download: s3://cfaanalyticsresearch-sagemaker/datasets/cfa_products/test_images/20190710_variety_1562781044.jpg to data/new_jpeg_images/20190710_variety_1562781044.jpg\n",
      "download: s3://cfaanalyticsresearch-sagemaker/datasets/cfa_products/test_images/20190710_variety_1562781045.jpg to data/new_jpeg_images/20190710_variety_1562781045.jpg\n",
      "download: s3://cfaanalyticsresearch-sagemaker/datasets/cfa_products/test_images/20190710_variety_1562781023.jpg to data/new_jpeg_images/20190710_variety_1562781023.jpg\n",
      "download: s3://cfaanalyticsresearch-sagemaker/datasets/cfa_products/test_images/20190710_variety_1562781043.jpg to data/new_jpeg_images/20190710_variety_1562781043.jpg\n",
      "download: s3://cfaanalyticsresearch-sagemaker/datasets/cfa_products/test_images/20190710_variety_1562781041.jpg to data/new_jpeg_images/20190710_variety_1562781041.jpg\n",
      "download: s3://cfaanalyticsresearch-sagemaker/datasets/cfa_products/test_images/20190710_variety_1562781039.jpg to data/new_jpeg_images/20190710_variety_1562781039.jpg\n",
      "download: s3://cfaanalyticsresearch-sagemaker/datasets/cfa_products/test_images/20190710_variety_1562781024.jpg to data/new_jpeg_images/20190710_variety_1562781024.jpg\n",
      "download: s3://cfaanalyticsresearch-sagemaker/datasets/cfa_products/test_images/20190710_variety_1562781040.jpg to data/new_jpeg_images/20190710_variety_1562781040.jpg\n",
      "download: s3://cfaanalyticsresearch-sagemaker/datasets/cfa_products/test_images/20190710_variety_1562781050.jpg to data/new_jpeg_images/20190710_variety_1562781050.jpg\n",
      "download: s3://cfaanalyticsresearch-sagemaker/datasets/cfa_products/test_images/20190710_variety_1562781049.jpg to data/new_jpeg_images/20190710_variety_1562781049.jpg\n",
      "download: s3://cfaanalyticsresearch-sagemaker/datasets/cfa_products/test_images/20190710_variety_1562781051.jpg to data/new_jpeg_images/20190710_variety_1562781051.jpg\n",
      "download: s3://cfaanalyticsresearch-sagemaker/datasets/cfa_products/test_images/20190710_variety_1562781047.jpg to data/new_jpeg_images/20190710_variety_1562781047.jpg\n"
     ]
    },
    {
     "name": "stdout",
     "output_type": "stream",
     "text": [
      "download: s3://cfaanalyticsresearch-sagemaker/datasets/cfa_products/test_images/20190710_variety_1562781042.jpg to data/new_jpeg_images/20190710_variety_1562781042.jpg\n",
      "download: s3://cfaanalyticsresearch-sagemaker/datasets/cfa_products/test_images/20190710_variety_1562781053.jpg to data/new_jpeg_images/20190710_variety_1562781053.jpg\n",
      "download: s3://cfaanalyticsresearch-sagemaker/datasets/cfa_products/test_images/20190710_variety_1562781052.jpg to data/new_jpeg_images/20190710_variety_1562781052.jpg\n",
      "download: s3://cfaanalyticsresearch-sagemaker/datasets/cfa_products/test_images/20190710_variety_1562781055.jpg to data/new_jpeg_images/20190710_variety_1562781055.jpg\n",
      "download: s3://cfaanalyticsresearch-sagemaker/datasets/cfa_products/test_images/20190710_variety_1562781048.jpg to data/new_jpeg_images/20190710_variety_1562781048.jpg\n",
      "download: s3://cfaanalyticsresearch-sagemaker/datasets/cfa_products/test_images/20190710_variety_1562781054.jpg to data/new_jpeg_images/20190710_variety_1562781054.jpg\n",
      "download: s3://cfaanalyticsresearch-sagemaker/datasets/cfa_products/test_images/20190710_variety_1562781061.jpg to data/new_jpeg_images/20190710_variety_1562781061.jpg\n",
      "download: s3://cfaanalyticsresearch-sagemaker/datasets/cfa_products/test_images/20190710_variety_1562781057.jpg to data/new_jpeg_images/20190710_variety_1562781057.jpg\n",
      "download: s3://cfaanalyticsresearch-sagemaker/datasets/cfa_products/test_images/20190710_variety_1562781060.jpg to data/new_jpeg_images/20190710_variety_1562781060.jpg\n",
      "download: s3://cfaanalyticsresearch-sagemaker/datasets/cfa_products/test_images/20190710_variety_1562781058.jpg to data/new_jpeg_images/20190710_variety_1562781058.jpg\n",
      "download: s3://cfaanalyticsresearch-sagemaker/datasets/cfa_products/test_images/20190710_variety_1562781063.jpg to data/new_jpeg_images/20190710_variety_1562781063.jpg\n",
      "download: s3://cfaanalyticsresearch-sagemaker/datasets/cfa_products/test_images/20190710_variety_1562781062.jpg to data/new_jpeg_images/20190710_variety_1562781062.jpg\n",
      "download: s3://cfaanalyticsresearch-sagemaker/datasets/cfa_products/test_images/20190710_variety_1562781059.jpg to data/new_jpeg_images/20190710_variety_1562781059.jpg\n",
      "download: s3://cfaanalyticsresearch-sagemaker/datasets/cfa_products/test_images/20190710_variety_1562781065.jpg to data/new_jpeg_images/20190710_variety_1562781065.jpg\n",
      "download: s3://cfaanalyticsresearch-sagemaker/datasets/cfa_products/test_images/20190710_variety_1562781068.jpg to data/new_jpeg_images/20190710_variety_1562781068.jpg\n",
      "download: s3://cfaanalyticsresearch-sagemaker/datasets/cfa_products/test_images/20190710_variety_1562781056.jpg to data/new_jpeg_images/20190710_variety_1562781056.jpg\n",
      "download: s3://cfaanalyticsresearch-sagemaker/datasets/cfa_products/test_images/20190710_variety_1562781064.jpg to data/new_jpeg_images/20190710_variety_1562781064.jpg\n",
      "download: s3://cfaanalyticsresearch-sagemaker/datasets/cfa_products/test_images/20190710_variety_1562781046.jpg to data/new_jpeg_images/20190710_variety_1562781046.jpg\n",
      "download: s3://cfaanalyticsresearch-sagemaker/datasets/cfa_products/test_images/20190710_variety_1562781066.jpg to data/new_jpeg_images/20190710_variety_1562781066.jpg\n",
      "download: s3://cfaanalyticsresearch-sagemaker/datasets/cfa_products/test_images/20190710_variety_1562781069.jpg to data/new_jpeg_images/20190710_variety_1562781069.jpg\n",
      "download: s3://cfaanalyticsresearch-sagemaker/datasets/cfa_products/test_images/20190710_variety_1562781067.jpg to data/new_jpeg_images/20190710_variety_1562781067.jpg\n",
      "download: s3://cfaanalyticsresearch-sagemaker/datasets/cfa_products/test_images/20190710_variety_1562781073.jpg to data/new_jpeg_images/20190710_variety_1562781073.jpg\n",
      "download: s3://cfaanalyticsresearch-sagemaker/datasets/cfa_products/test_images/20190710_variety_1562781071.jpg to data/new_jpeg_images/20190710_variety_1562781071.jpg\n",
      "download: s3://cfaanalyticsresearch-sagemaker/datasets/cfa_products/test_images/20190710_variety_1562781072.jpg to data/new_jpeg_images/20190710_variety_1562781072.jpg\n",
      "download: s3://cfaanalyticsresearch-sagemaker/datasets/cfa_products/test_images/20190710_variety_1562781077.jpg to data/new_jpeg_images/20190710_variety_1562781077.jpg\n",
      "download: s3://cfaanalyticsresearch-sagemaker/datasets/cfa_products/test_images/20190710_variety_1562781075.jpg to data/new_jpeg_images/20190710_variety_1562781075.jpg\n",
      "download: s3://cfaanalyticsresearch-sagemaker/datasets/cfa_products/test_images/20190710_variety_1562781074.jpg to data/new_jpeg_images/20190710_variety_1562781074.jpg\n",
      "download: s3://cfaanalyticsresearch-sagemaker/datasets/cfa_products/test_images/20190710_variety_1562781078.jpg to data/new_jpeg_images/20190710_variety_1562781078.jpg\n",
      "download: s3://cfaanalyticsresearch-sagemaker/datasets/cfa_products/test_images/20190710_variety_1562781080.jpg to data/new_jpeg_images/20190710_variety_1562781080.jpg\n",
      "download: s3://cfaanalyticsresearch-sagemaker/datasets/cfa_products/test_images/20190710_variety_1562781082.jpg to data/new_jpeg_images/20190710_variety_1562781082.jpg\n",
      "download: s3://cfaanalyticsresearch-sagemaker/datasets/cfa_products/test_images/20190710_variety_1562781081.jpg to data/new_jpeg_images/20190710_variety_1562781081.jpg\n",
      "download: s3://cfaanalyticsresearch-sagemaker/datasets/cfa_products/test_images/20190710_variety_1562781076.jpg to data/new_jpeg_images/20190710_variety_1562781076.jpg\n",
      "download: s3://cfaanalyticsresearch-sagemaker/datasets/cfa_products/test_images/20190710_variety_1562781079.jpg to data/new_jpeg_images/20190710_variety_1562781079.jpg\n",
      "download: s3://cfaanalyticsresearch-sagemaker/datasets/cfa_products/test_images/20190710_variety_1562781084.jpg to data/new_jpeg_images/20190710_variety_1562781084.jpg\n",
      "download: s3://cfaanalyticsresearch-sagemaker/datasets/cfa_products/test_images/20190710_variety_1562781086.jpg to data/new_jpeg_images/20190710_variety_1562781086.jpg\n",
      "download: s3://cfaanalyticsresearch-sagemaker/datasets/cfa_products/test_images/20190710_variety_1562781087.jpg to data/new_jpeg_images/20190710_variety_1562781087.jpg\n",
      "download: s3://cfaanalyticsresearch-sagemaker/datasets/cfa_products/test_images/20190710_variety_1562781083.jpg to data/new_jpeg_images/20190710_variety_1562781083.jpg\n",
      "download: s3://cfaanalyticsresearch-sagemaker/datasets/cfa_products/test_images/20190710_variety_1562781085.jpg to data/new_jpeg_images/20190710_variety_1562781085.jpg\n",
      "download: s3://cfaanalyticsresearch-sagemaker/datasets/cfa_products/test_images/20190710_variety_1562781088.jpg to data/new_jpeg_images/20190710_variety_1562781088.jpg\n",
      "download: s3://cfaanalyticsresearch-sagemaker/datasets/cfa_products/test_images/20190710_variety_1562781090.jpg to data/new_jpeg_images/20190710_variety_1562781090.jpg\n",
      "download: s3://cfaanalyticsresearch-sagemaker/datasets/cfa_products/test_images/20190710_variety_1562781092.jpg to data/new_jpeg_images/20190710_variety_1562781092.jpg\n",
      "download: s3://cfaanalyticsresearch-sagemaker/datasets/cfa_products/test_images/20190710_variety_1562781096.jpg to data/new_jpeg_images/20190710_variety_1562781096.jpg\n",
      "download: s3://cfaanalyticsresearch-sagemaker/datasets/cfa_products/test_images/20190710_variety_1562781091.jpg to data/new_jpeg_images/20190710_variety_1562781091.jpg\n",
      "download: s3://cfaanalyticsresearch-sagemaker/datasets/cfa_products/test_images/20190710_variety_1562781093.jpg to data/new_jpeg_images/20190710_variety_1562781093.jpg\n",
      "download: s3://cfaanalyticsresearch-sagemaker/datasets/cfa_products/test_images/20190710_variety_1562781089.jpg to data/new_jpeg_images/20190710_variety_1562781089.jpg\n",
      "download: s3://cfaanalyticsresearch-sagemaker/datasets/cfa_products/test_images/20190710_variety_1562781094.jpg to data/new_jpeg_images/20190710_variety_1562781094.jpg\n",
      "download: s3://cfaanalyticsresearch-sagemaker/datasets/cfa_products/test_images/20190710_variety_1562781098.jpg to data/new_jpeg_images/20190710_variety_1562781098.jpg\n",
      "download: s3://cfaanalyticsresearch-sagemaker/datasets/cfa_products/test_images/20190710_variety_1562781099.jpg to data/new_jpeg_images/20190710_variety_1562781099.jpg\n",
      "download: s3://cfaanalyticsresearch-sagemaker/datasets/cfa_products/test_images/20190710_variety_1562781095.jpg to data/new_jpeg_images/20190710_variety_1562781095.jpg\n",
      "download: s3://cfaanalyticsresearch-sagemaker/datasets/cfa_products/test_images/20190710_variety_1562781097.jpg to data/new_jpeg_images/20190710_variety_1562781097.jpg\n",
      "download: s3://cfaanalyticsresearch-sagemaker/datasets/cfa_products/test_images/20190710_variety_1562781100.jpg to data/new_jpeg_images/20190710_variety_1562781100.jpg\n",
      "download: s3://cfaanalyticsresearch-sagemaker/datasets/cfa_products/test_images/20190710_variety_1562781103.jpg to data/new_jpeg_images/20190710_variety_1562781103.jpg\n",
      "download: s3://cfaanalyticsresearch-sagemaker/datasets/cfa_products/test_images/20190710_variety_1562781101.jpg to data/new_jpeg_images/20190710_variety_1562781101.jpg\n",
      "download: s3://cfaanalyticsresearch-sagemaker/datasets/cfa_products/test_images/20190710_variety_1562781106.jpg to data/new_jpeg_images/20190710_variety_1562781106.jpg\n",
      "download: s3://cfaanalyticsresearch-sagemaker/datasets/cfa_products/test_images/20190710_variety_1562781104.jpg to data/new_jpeg_images/20190710_variety_1562781104.jpg\n"
     ]
    },
    {
     "name": "stdout",
     "output_type": "stream",
     "text": [
      "Completed 6.5 MiB/7.1 MiB (12.1 MiB/s) with 11 file(s) remaining\r",
      "download: s3://cfaanalyticsresearch-sagemaker/datasets/cfa_products/test_images/20190710_variety_1562781102.jpg to data/new_jpeg_images/20190710_variety_1562781102.jpg\r\n",
      "Completed 6.5 MiB/7.1 MiB (12.1 MiB/s) with 10 file(s) remaining\r",
      "Completed 6.6 MiB/7.1 MiB (12.1 MiB/s) with 10 file(s) remaining\r",
      "Completed 6.6 MiB/7.1 MiB (12.2 MiB/s) with 10 file(s) remaining\r",
      "Completed 6.7 MiB/7.1 MiB (12.3 MiB/s) with 10 file(s) remaining\r",
      "Completed 6.7 MiB/7.1 MiB (12.4 MiB/s) with 10 file(s) remaining\r",
      "download: s3://cfaanalyticsresearch-sagemaker/datasets/cfa_products/test_images/20190710_variety_1562781111.jpg to data/new_jpeg_images/20190710_variety_1562781111.jpg\r\n",
      "Completed 6.7 MiB/7.1 MiB (12.4 MiB/s) with 9 file(s) remaining\r",
      "download: s3://cfaanalyticsresearch-sagemaker/datasets/cfa_products/test_images/20190710_variety_1562781105.jpg to data/new_jpeg_images/20190710_variety_1562781105.jpg\r\n",
      "Completed 6.7 MiB/7.1 MiB (12.4 MiB/s) with 8 file(s) remaining\r",
      "download: s3://cfaanalyticsresearch-sagemaker/datasets/cfa_products/test_images/20190710_variety_1562781110.jpg to data/new_jpeg_images/20190710_variety_1562781110.jpg\r\n",
      "Completed 6.7 MiB/7.1 MiB (12.4 MiB/s) with 7 file(s) remaining\r",
      "download: s3://cfaanalyticsresearch-sagemaker/datasets/cfa_products/test_images/20190710_variety_1562781109.jpg to data/new_jpeg_images/20190710_variety_1562781109.jpg\r\n",
      "Completed 6.7 MiB/7.1 MiB (12.4 MiB/s) with 6 file(s) remaining\r",
      "Completed 6.8 MiB/7.1 MiB (12.4 MiB/s) with 6 file(s) remaining\r",
      "Completed 6.9 MiB/7.1 MiB (12.5 MiB/s) with 6 file(s) remaining\r",
      "download: s3://cfaanalyticsresearch-sagemaker/datasets/cfa_products/test_images/20190710_variety_1562781112.jpg to data/new_jpeg_images/20190710_variety_1562781112.jpg\r\n",
      "Completed 6.9 MiB/7.1 MiB (12.5 MiB/s) with 5 file(s) remaining\r",
      "download: s3://cfaanalyticsresearch-sagemaker/datasets/cfa_products/test_images/20190710_variety_1562781108.jpg to data/new_jpeg_images/20190710_variety_1562781108.jpg\r\n",
      "Completed 6.9 MiB/7.1 MiB (12.5 MiB/s) with 4 file(s) remaining\r",
      "Completed 6.9 MiB/7.1 MiB (12.5 MiB/s) with 4 file(s) remaining\r",
      "Completed 7.0 MiB/7.1 MiB (12.6 MiB/s) with 4 file(s) remaining\r",
      "download: s3://cfaanalyticsresearch-sagemaker/datasets/cfa_products/test_images/20190710_variety_1562781107.jpg to data/new_jpeg_images/20190710_variety_1562781107.jpg\r\n",
      "Completed 7.0 MiB/7.1 MiB (12.6 MiB/s) with 3 file(s) remaining\r",
      "download: s3://cfaanalyticsresearch-sagemaker/datasets/cfa_products/test_images/20190710_variety_1562781114.jpg to data/new_jpeg_images/20190710_variety_1562781114.jpg\r\n",
      "Completed 7.0 MiB/7.1 MiB (12.6 MiB/s) with 2 file(s) remaining\r",
      "Completed 7.0 MiB/7.1 MiB (12.6 MiB/s) with 2 file(s) remaining\r",
      "download: s3://cfaanalyticsresearch-sagemaker/datasets/cfa_products/test_images/20190710_variety_1562781113.jpg to data/new_jpeg_images/20190710_variety_1562781113.jpg\r\n",
      "Completed 7.0 MiB/7.1 MiB (12.6 MiB/s) with 1 file(s) remaining\r",
      "Completed 7.1 MiB/7.1 MiB (12.7 MiB/s) with 1 file(s) remaining\r",
      "download: s3://cfaanalyticsresearch-sagemaker/datasets/cfa_products/test_images/20190710_variety_1562781115.jpg to data/new_jpeg_images/20190710_variety_1562781115.jpg\r\n"
     ]
    }
   ],
   "source": [
    "! aws s3 cp {S3_TEST_IMAGES} {IMAGE_DIR} --recursive"
   ]
  },
  {
   "cell_type": "code",
   "execution_count": 27,
   "metadata": {},
   "outputs": [],
   "source": [
    "# Helper Function\n",
    "# load an image and resturn a numpy array\n",
    "\n",
    "def load_image_into_numpy_array(image):\n",
    "  (im_width, im_height) = image.size\n",
    "  return np.array(image.getdata()).reshape(\n",
    "      (im_height, im_width, 3)).astype(np.uint8)"
   ]
  },
  {
   "cell_type": "code",
   "execution_count": 34,
   "metadata": {},
   "outputs": [
    {
     "name": "stdout",
     "output_type": "stream",
     "text": [
      "Image Count: 117\n",
      "Sample: /home/ec2-user/SageMaker/ssd-dag/data/new_jpeg_images/20190710_variety_1562781002.jpg\n"
     ]
    }
   ],
   "source": [
    "dir_list = os.listdir(IMAGE_DIR)\n",
    "image_list = list()\n",
    "for f in dir_list:\n",
    "    full_path = os.path.join(IMAGE_DIR, f)\n",
    "    if os.path.isfile(full_path) and os.path.splitext(f)[1].lower() == '.jpg':\n",
    "        image_list.append(full_path)\n",
    "\n",
    "print (\"Image Count:\", len(image_list))\n",
    "print (\"Sample:\",image_list[0])"
   ]
  },
  {
   "cell_type": "code",
   "execution_count": null,
   "metadata": {},
   "outputs": [],
   "source": [
    "# Size, in inches, of the output images.\n",
    "IMAGE_SIZE = (12, 8)"
   ]
  },
  {
   "cell_type": "code",
   "execution_count": 35,
   "metadata": {},
   "outputs": [],
   "source": [
    "def run_inference_for_single_image(image, graph):\n",
    "  with graph.as_default():\n",
    "    with tf.Session() as sess:\n",
    "      # Get handles to input and output tensors\n",
    "      ops = tf.get_default_graph().get_operations()\n",
    "      all_tensor_names = {output.name for op in ops for output in op.outputs}\n",
    "      tensor_dict = {}\n",
    "      for key in [\n",
    "          'num_detections', 'detection_boxes', 'detection_scores',\n",
    "          'detection_classes', 'detection_masks'\n",
    "      ]:\n",
    "        tensor_name = key + ':0'\n",
    "        if tensor_name in all_tensor_names:\n",
    "          tensor_dict[key] = tf.get_default_graph().get_tensor_by_name(\n",
    "              tensor_name)\n",
    "      if 'detection_masks' in tensor_dict:\n",
    "        # The following processing is only for single image\n",
    "        detection_boxes = tf.squeeze(tensor_dict['detection_boxes'], [0])\n",
    "        detection_masks = tf.squeeze(tensor_dict['detection_masks'], [0])\n",
    "        # Reframe is required to translate mask from box coordinates to image coordinates and fit the image size.\n",
    "        real_num_detection = tf.cast(tensor_dict['num_detections'][0], tf.int32)\n",
    "        detection_boxes = tf.slice(detection_boxes, [0, 0], [real_num_detection, -1])\n",
    "        detection_masks = tf.slice(detection_masks, [0, 0, 0], [real_num_detection, -1, -1])\n",
    "        detection_masks_reframed = utils_ops.reframe_box_masks_to_image_masks(\n",
    "            detection_masks, detection_boxes, image.shape[1], image.shape[2])\n",
    "        detection_masks_reframed = tf.cast(\n",
    "            tf.greater(detection_masks_reframed, 0.5), tf.uint8)\n",
    "        # Follow the convention by adding back the batch dimension\n",
    "        tensor_dict['detection_masks'] = tf.expand_dims(\n",
    "            detection_masks_reframed, 0)\n",
    "      image_tensor = tf.get_default_graph().get_tensor_by_name('image_tensor:0')\n",
    "\n",
    "      # Run inference\n",
    "      output_dict = sess.run(tensor_dict,\n",
    "                             feed_dict={image_tensor: image})\n",
    "\n",
    "      # all outputs are float32 numpy arrays, so convert types as appropriate\n",
    "      output_dict['num_detections'] = int(output_dict['num_detections'][0])\n",
    "      output_dict['detection_classes'] = output_dict[\n",
    "          'detection_classes'][0].astype(np.int64)\n",
    "      output_dict['detection_boxes'] = output_dict['detection_boxes'][0]\n",
    "      output_dict['detection_scores'] = output_dict['detection_scores'][0]\n",
    "      if 'detection_masks' in output_dict:\n",
    "        output_dict['detection_masks'] = output_dict['detection_masks'][0]\n",
    "  return output_dict"
   ]
  },
  {
   "cell_type": "code",
   "execution_count": null,
   "metadata": {},
   "outputs": [],
   "source": []
  },
  {
   "cell_type": "markdown",
   "metadata": {},
   "source": [
    "## Conclusion\n",
    "\n",
    "If you want the annotations - you'll find the annotations tarball in data/ directory\n",
    "use the Notebook browser to download it\n",
    "\n",
    "The fastest, easiest way to review (and correct / verify) is to use labelImg program which will merge the image and annotation\n",
    "\n",
    "The main conclusion here is our model works."
   ]
  },
  {
   "cell_type": "code",
   "execution_count": null,
   "metadata": {},
   "outputs": [],
   "source": []
  }
 ],
 "metadata": {
  "kernelspec": {
   "display_name": "conda_tensorflow_p36",
   "language": "python",
   "name": "conda_tensorflow_p36"
  },
  "language_info": {
   "codemirror_mode": {
    "name": "ipython",
    "version": 3
   },
   "file_extension": ".py",
   "mimetype": "text/x-python",
   "name": "python",
   "nbconvert_exporter": "python",
   "pygments_lexer": "ipython3",
   "version": "3.6.5"
  }
 },
 "nbformat": 4,
 "nbformat_minor": 2
}
