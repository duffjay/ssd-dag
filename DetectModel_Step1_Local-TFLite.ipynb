{
 "cells": [
  {
   "cell_type": "markdown",
   "metadata": {},
   "source": [
    "# Detect (with the) Model\n",
    "## Step 1 - run the TFLite model locally\n",
    "\n",
    "In this notebook, we are replicating  some of the original MobileNet TensorFlow Lite functionality.  That means taking the TensorFlow model (checkpoint) and converting it to a TensorFlow Lite model.   This is not quite what the SageMaker tutorial does.   The tutorial sticks with TensorFlow.   Confirm that the Lite model works first - because that is a known path then:\n",
    "- Detect Step 2 - run endpoint as a TensorFlow model\n",
    "- Detect Step 3 - run endpoint as a TensorFlow Lite Model -- the advantage of a Lite model is less latency, faster, less resources -- with slightly less accuracy.    Lite models are the path towards IoT deployments and TPU compatible models\n",
    "\n",
    "We are testing the model before we deploy it as an endpoint.   This is optional but definitely makes sense as we learn this process"
   ]
  },
  {
   "cell_type": "code",
   "execution_count": 1,
   "metadata": {},
   "outputs": [],
   "source": [
    "import os"
   ]
  },
  {
   "cell_type": "markdown",
   "metadata": {},
   "source": [
    "## Global Environment Variables\n",
    "\n",
    "We are using objects and scripts in the project as much as possible.   They require environment variables to pass along where stuff is stored\n",
    "\n",
    "### Note \n",
    "This notebook assumes output_tflite_graph.tflite is already on the SageMaker server (it will be if you ran the Train Step 3 notebook.)  If not, you can get it from a SageMaker Training Job /output/tflite_model on S3"
   ]
  },
  {
   "cell_type": "code",
   "execution_count": 8,
   "metadata": {},
   "outputs": [],
   "source": [
    "PROJECT_DIR = os.getcwd()\n",
    "IMAGE_DIR = os.path.join(PROJECT_DIR, \"data/new_jpeg_images\")\n",
    "MODEL_NAME = 'tf_lite'   # not using the edge_tpu \n",
    "MODEL_PATH = os.path.join(PROJECT_DIR, \"tflite_model/output_tflite_graph.tflite\")\n",
    "LABEL_MAP = os.path.join(PROJECT_DIR, \"code/cfa_prod_label_map.pbtxt\")\n",
    "DISPLAY = \"None\"\n",
    "ANNOTATION_DIR = os.path.join(PROJECT_DIR, \"data/unverified_annotations\")\n",
    "S3_TEST_IMAGES = \"s3://cfa-eadatasciencesb-sagemaker/datasets/cfa_products/test_images/\""
   ]
  },
  {
   "cell_type": "markdown",
   "metadata": {},
   "source": [
    "## Data\n",
    "Copy the test images locally\n",
    "\n",
    "### aws2\n",
    "- if local, remember to update our credentials\n",
    "- if using AWS CLI Version2,   \n",
    "https://docs.aws.amazon.com/cli/latest/userguide/install-cliv2-linux-mac.html#cliv2-linux-mac-install  \n",
    "- remember, it's:  \n",
    "`aws2 s3 cp`"
   ]
  },
  {
   "cell_type": "code",
   "execution_count": 9,
   "metadata": {},
   "outputs": [
    {
     "name": "stdout",
     "output_type": "stream",
     "text": [
      "download: s3://cfa-eadatasciencesb-sagemaker/datasets/cfa_products/test_images/20190710_variety_1562780998.jpg to data/new_jpeg_images/20190710_variety_1562780998.jpg\n",
      "download: s3://cfa-eadatasciencesb-sagemaker/datasets/cfa_products/test_images/20190710_variety_1562781004.jpg to data/new_jpeg_images/20190710_variety_1562781004.jpg\n",
      "download: s3://cfa-eadatasciencesb-sagemaker/datasets/cfa_products/test_images/20190710_variety_1562781005.jpg to data/new_jpeg_images/20190710_variety_1562781005.jpg\n",
      "download: s3://cfa-eadatasciencesb-sagemaker/datasets/cfa_products/test_images/20190710_variety_1562780997.jpg to data/new_jpeg_images/20190710_variety_1562780997.jpg\n",
      "download: s3://cfa-eadatasciencesb-sagemaker/datasets/cfa_products/test_images/20190710_variety_1562781003.jpg to data/new_jpeg_images/20190710_variety_1562781003.jpg\n",
      "download: s3://cfa-eadatasciencesb-sagemaker/datasets/cfa_products/test_images/20190710_variety_1562781001.jpg to data/new_jpeg_images/20190710_variety_1562781001.jpg\n",
      "download: s3://cfa-eadatasciencesb-sagemaker/datasets/cfa_products/test_images/20190710_variety_1562781006.jpg to data/new_jpeg_images/20190710_variety_1562781006.jpg\n",
      "download: s3://cfa-eadatasciencesb-sagemaker/datasets/cfa_products/test_images/20190710_variety_1562780999.jpg to data/new_jpeg_images/20190710_variety_1562780999.jpg\n",
      "download: s3://cfa-eadatasciencesb-sagemaker/datasets/cfa_products/test_images/20190710_variety_1562781008.jpg to data/new_jpeg_images/20190710_variety_1562781008.jpg\n",
      "download: s3://cfa-eadatasciencesb-sagemaker/datasets/cfa_products/test_images/20190710_variety_1562781002.jpg to data/new_jpeg_images/20190710_variety_1562781002.jpg\n",
      "download: s3://cfa-eadatasciencesb-sagemaker/datasets/cfa_products/test_images/20190710_variety_1562781009.jpg to data/new_jpeg_images/20190710_variety_1562781009.jpg\n",
      "download: s3://cfa-eadatasciencesb-sagemaker/datasets/cfa_products/test_images/20190710_variety_1562781012.jpg to data/new_jpeg_images/20190710_variety_1562781012.jpg\n",
      "download: s3://cfa-eadatasciencesb-sagemaker/datasets/cfa_products/test_images/20190710_variety_1562781010.jpg to data/new_jpeg_images/20190710_variety_1562781010.jpg\n",
      "download: s3://cfa-eadatasciencesb-sagemaker/datasets/cfa_products/test_images/20190710_variety_1562781000.jpg to data/new_jpeg_images/20190710_variety_1562781000.jpg\n",
      "download: s3://cfa-eadatasciencesb-sagemaker/datasets/cfa_products/test_images/20190710_variety_1562781007.jpg to data/new_jpeg_images/20190710_variety_1562781007.jpg\n",
      "download: s3://cfa-eadatasciencesb-sagemaker/datasets/cfa_products/test_images/20190710_variety_1562781013.jpg to data/new_jpeg_images/20190710_variety_1562781013.jpg\n",
      "download: s3://cfa-eadatasciencesb-sagemaker/datasets/cfa_products/test_images/20190710_variety_1562781011.jpg to data/new_jpeg_images/20190710_variety_1562781011.jpg\n",
      "download: s3://cfa-eadatasciencesb-sagemaker/datasets/cfa_products/test_images/20190710_variety_1562781017.jpg to data/new_jpeg_images/20190710_variety_1562781017.jpg\n",
      "download: s3://cfa-eadatasciencesb-sagemaker/datasets/cfa_products/test_images/20190710_variety_1562781014.jpg to data/new_jpeg_images/20190710_variety_1562781014.jpg\n",
      "download: s3://cfa-eadatasciencesb-sagemaker/datasets/cfa_products/test_images/20190710_variety_1562781021.jpg to data/new_jpeg_images/20190710_variety_1562781021.jpg\n",
      "download: s3://cfa-eadatasciencesb-sagemaker/datasets/cfa_products/test_images/20190710_variety_1562781015.jpg to data/new_jpeg_images/20190710_variety_1562781015.jpg\n",
      "download: s3://cfa-eadatasciencesb-sagemaker/datasets/cfa_products/test_images/20190710_variety_1562781022.jpg to data/new_jpeg_images/20190710_variety_1562781022.jpg\n",
      "download: s3://cfa-eadatasciencesb-sagemaker/datasets/cfa_products/test_images/20190710_variety_1562781018.jpg to data/new_jpeg_images/20190710_variety_1562781018.jpg\n",
      "download: s3://cfa-eadatasciencesb-sagemaker/datasets/cfa_products/test_images/20190710_variety_1562781016.jpg to data/new_jpeg_images/20190710_variety_1562781016.jpg\n",
      "download: s3://cfa-eadatasciencesb-sagemaker/datasets/cfa_products/test_images/20190710_variety_1562781026.jpg to data/new_jpeg_images/20190710_variety_1562781026.jpg\n",
      "download: s3://cfa-eadatasciencesb-sagemaker/datasets/cfa_products/test_images/20190710_variety_1562781023.jpg to data/new_jpeg_images/20190710_variety_1562781023.jpg\n",
      "download: s3://cfa-eadatasciencesb-sagemaker/datasets/cfa_products/test_images/20190710_variety_1562781025.jpg to data/new_jpeg_images/20190710_variety_1562781025.jpg\n",
      "download: s3://cfa-eadatasciencesb-sagemaker/datasets/cfa_products/test_images/20190710_variety_1562781024.jpg to data/new_jpeg_images/20190710_variety_1562781024.jpg\n",
      "download: s3://cfa-eadatasciencesb-sagemaker/datasets/cfa_products/test_images/20190710_variety_1562781027.jpg to data/new_jpeg_images/20190710_variety_1562781027.jpg\n",
      "download: s3://cfa-eadatasciencesb-sagemaker/datasets/cfa_products/test_images/20190710_variety_1562781020.jpg to data/new_jpeg_images/20190710_variety_1562781020.jpg\n",
      "download: s3://cfa-eadatasciencesb-sagemaker/datasets/cfa_products/test_images/20190710_variety_1562781028.jpg to data/new_jpeg_images/20190710_variety_1562781028.jpg\n",
      "download: s3://cfa-eadatasciencesb-sagemaker/datasets/cfa_products/test_images/20190710_variety_1562781033.jpg to data/new_jpeg_images/20190710_variety_1562781033.jpg\n",
      "download: s3://cfa-eadatasciencesb-sagemaker/datasets/cfa_products/test_images/20190710_variety_1562781032.jpg to data/new_jpeg_images/20190710_variety_1562781032.jpg\n",
      "download: s3://cfa-eadatasciencesb-sagemaker/datasets/cfa_products/test_images/20190710_variety_1562781031.jpg to data/new_jpeg_images/20190710_variety_1562781031.jpg\n",
      "download: s3://cfa-eadatasciencesb-sagemaker/datasets/cfa_products/test_images/20190710_variety_1562781030.jpg to data/new_jpeg_images/20190710_variety_1562781030.jpg\n",
      "download: s3://cfa-eadatasciencesb-sagemaker/datasets/cfa_products/test_images/20190710_variety_1562781039.jpg to data/new_jpeg_images/20190710_variety_1562781039.jpg\n",
      "download: s3://cfa-eadatasciencesb-sagemaker/datasets/cfa_products/test_images/20190710_variety_1562781040.jpg to data/new_jpeg_images/20190710_variety_1562781040.jpg\n",
      "download: s3://cfa-eadatasciencesb-sagemaker/datasets/cfa_products/test_images/20190710_variety_1562781029.jpg to data/new_jpeg_images/20190710_variety_1562781029.jpg\n",
      "download: s3://cfa-eadatasciencesb-sagemaker/datasets/cfa_products/test_images/20190710_variety_1562781041.jpg to data/new_jpeg_images/20190710_variety_1562781041.jpg\n",
      "download: s3://cfa-eadatasciencesb-sagemaker/datasets/cfa_products/test_images/20190710_variety_1562781042.jpg to data/new_jpeg_images/20190710_variety_1562781042.jpg\n",
      "download: s3://cfa-eadatasciencesb-sagemaker/datasets/cfa_products/test_images/20190710_variety_1562781038.jpg to data/new_jpeg_images/20190710_variety_1562781038.jpg\n",
      "download: s3://cfa-eadatasciencesb-sagemaker/datasets/cfa_products/test_images/20190710_variety_1562781047.jpg to data/new_jpeg_images/20190710_variety_1562781047.jpg\n",
      "download: s3://cfa-eadatasciencesb-sagemaker/datasets/cfa_products/test_images/20190710_variety_1562781046.jpg to data/new_jpeg_images/20190710_variety_1562781046.jpg\n",
      "download: s3://cfa-eadatasciencesb-sagemaker/datasets/cfa_products/test_images/20190710_variety_1562781043.jpg to data/new_jpeg_images/20190710_variety_1562781043.jpg\n",
      "download: s3://cfa-eadatasciencesb-sagemaker/datasets/cfa_products/test_images/20190710_variety_1562781048.jpg to data/new_jpeg_images/20190710_variety_1562781048.jpg\n",
      "download: s3://cfa-eadatasciencesb-sagemaker/datasets/cfa_products/test_images/20190710_variety_1562781045.jpg to data/new_jpeg_images/20190710_variety_1562781045.jpg\n",
      "download: s3://cfa-eadatasciencesb-sagemaker/datasets/cfa_products/test_images/20190710_variety_1562781051.jpg to data/new_jpeg_images/20190710_variety_1562781051.jpg\n",
      "download: s3://cfa-eadatasciencesb-sagemaker/datasets/cfa_products/test_images/20190710_variety_1562781044.jpg to data/new_jpeg_images/20190710_variety_1562781044.jpg\n",
      "download: s3://cfa-eadatasciencesb-sagemaker/datasets/cfa_products/test_images/20190710_variety_1562781049.jpg to data/new_jpeg_images/20190710_variety_1562781049.jpg\n",
      "download: s3://cfa-eadatasciencesb-sagemaker/datasets/cfa_products/test_images/20190710_variety_1562781050.jpg to data/new_jpeg_images/20190710_variety_1562781050.jpg\n",
      "download: s3://cfa-eadatasciencesb-sagemaker/datasets/cfa_products/test_images/20190710_variety_1562781037.jpg to data/new_jpeg_images/20190710_variety_1562781037.jpg\n"
     ]
    },
    {
     "name": "stdout",
     "output_type": "stream",
     "text": [
      "download: s3://cfa-eadatasciencesb-sagemaker/datasets/cfa_products/test_images/20190710_variety_1562781052.jpg to data/new_jpeg_images/20190710_variety_1562781052.jpg\n",
      "download: s3://cfa-eadatasciencesb-sagemaker/datasets/cfa_products/test_images/20190710_variety_1562781059.jpg to data/new_jpeg_images/20190710_variety_1562781059.jpg\n",
      "download: s3://cfa-eadatasciencesb-sagemaker/datasets/cfa_products/test_images/20190710_variety_1562781036.jpg to data/new_jpeg_images/20190710_variety_1562781036.jpg\n",
      "download: s3://cfa-eadatasciencesb-sagemaker/datasets/cfa_products/test_images/20190710_variety_1562781035.jpg to data/new_jpeg_images/20190710_variety_1562781035.jpg\n",
      "download: s3://cfa-eadatasciencesb-sagemaker/datasets/cfa_products/test_images/20190710_variety_1562781053.jpg to data/new_jpeg_images/20190710_variety_1562781053.jpg\n",
      "download: s3://cfa-eadatasciencesb-sagemaker/datasets/cfa_products/test_images/20190710_variety_1562781034.jpg to data/new_jpeg_images/20190710_variety_1562781034.jpg\n",
      "download: s3://cfa-eadatasciencesb-sagemaker/datasets/cfa_products/test_images/20190710_variety_1562781054.jpg to data/new_jpeg_images/20190710_variety_1562781054.jpg\n",
      "download: s3://cfa-eadatasciencesb-sagemaker/datasets/cfa_products/test_images/20190710_variety_1562781055.jpg to data/new_jpeg_images/20190710_variety_1562781055.jpg\n",
      "download: s3://cfa-eadatasciencesb-sagemaker/datasets/cfa_products/test_images/20190710_variety_1562781061.jpg to data/new_jpeg_images/20190710_variety_1562781061.jpg\n",
      "download: s3://cfa-eadatasciencesb-sagemaker/datasets/cfa_products/test_images/20190710_variety_1562781065.jpg to data/new_jpeg_images/20190710_variety_1562781065.jpg\n",
      "download: s3://cfa-eadatasciencesb-sagemaker/datasets/cfa_products/test_images/20190710_variety_1562781066.jpg to data/new_jpeg_images/20190710_variety_1562781066.jpg\n",
      "download: s3://cfa-eadatasciencesb-sagemaker/datasets/cfa_products/test_images/20190710_variety_1562781062.jpg to data/new_jpeg_images/20190710_variety_1562781062.jpg\n",
      "download: s3://cfa-eadatasciencesb-sagemaker/datasets/cfa_products/test_images/20190710_variety_1562781064.jpg to data/new_jpeg_images/20190710_variety_1562781064.jpg\n",
      "download: s3://cfa-eadatasciencesb-sagemaker/datasets/cfa_products/test_images/20190710_variety_1562781057.jpg to data/new_jpeg_images/20190710_variety_1562781057.jpg\n",
      "download: s3://cfa-eadatasciencesb-sagemaker/datasets/cfa_products/test_images/20190710_variety_1562781063.jpg to data/new_jpeg_images/20190710_variety_1562781063.jpg\n",
      "download: s3://cfa-eadatasciencesb-sagemaker/datasets/cfa_products/test_images/20190710_variety_1562781067.jpg to data/new_jpeg_images/20190710_variety_1562781067.jpg\n",
      "download: s3://cfa-eadatasciencesb-sagemaker/datasets/cfa_products/test_images/20190710_variety_1562781069.jpg to data/new_jpeg_images/20190710_variety_1562781069.jpg\n",
      "download: s3://cfa-eadatasciencesb-sagemaker/datasets/cfa_products/test_images/20190710_variety_1562781071.jpg to data/new_jpeg_images/20190710_variety_1562781071.jpg\n",
      "download: s3://cfa-eadatasciencesb-sagemaker/datasets/cfa_products/test_images/20190710_variety_1562781072.jpg to data/new_jpeg_images/20190710_variety_1562781072.jpg\n",
      "download: s3://cfa-eadatasciencesb-sagemaker/datasets/cfa_products/test_images/20190710_variety_1562781068.jpg to data/new_jpeg_images/20190710_variety_1562781068.jpg\n",
      "download: s3://cfa-eadatasciencesb-sagemaker/datasets/cfa_products/test_images/20190710_variety_1562781080.jpg to data/new_jpeg_images/20190710_variety_1562781080.jpg\n",
      "download: s3://cfa-eadatasciencesb-sagemaker/datasets/cfa_products/test_images/20190710_variety_1562781073.jpg to data/new_jpeg_images/20190710_variety_1562781073.jpg\n",
      "download: s3://cfa-eadatasciencesb-sagemaker/datasets/cfa_products/test_images/20190710_variety_1562781074.jpg to data/new_jpeg_images/20190710_variety_1562781074.jpg\n",
      "download: s3://cfa-eadatasciencesb-sagemaker/datasets/cfa_products/test_images/20190710_variety_1562781076.jpg to data/new_jpeg_images/20190710_variety_1562781076.jpg\n",
      "download: s3://cfa-eadatasciencesb-sagemaker/datasets/cfa_products/test_images/20190710_variety_1562781075.jpg to data/new_jpeg_images/20190710_variety_1562781075.jpg\n",
      "download: s3://cfa-eadatasciencesb-sagemaker/datasets/cfa_products/test_images/20190710_variety_1562781058.jpg to data/new_jpeg_images/20190710_variety_1562781058.jpg\n",
      "download: s3://cfa-eadatasciencesb-sagemaker/datasets/cfa_products/test_images/20190710_variety_1562781056.jpg to data/new_jpeg_images/20190710_variety_1562781056.jpg\n",
      "download: s3://cfa-eadatasciencesb-sagemaker/datasets/cfa_products/test_images/20190710_variety_1562781083.jpg to data/new_jpeg_images/20190710_variety_1562781083.jpg\n",
      "download: s3://cfa-eadatasciencesb-sagemaker/datasets/cfa_products/test_images/20190710_variety_1562781060.jpg to data/new_jpeg_images/20190710_variety_1562781060.jpg\n",
      "download: s3://cfa-eadatasciencesb-sagemaker/datasets/cfa_products/test_images/20190710_variety_1562781081.jpg to data/new_jpeg_images/20190710_variety_1562781081.jpg\n",
      "download: s3://cfa-eadatasciencesb-sagemaker/datasets/cfa_products/test_images/20190710_variety_1562781082.jpg to data/new_jpeg_images/20190710_variety_1562781082.jpg\n",
      "download: s3://cfa-eadatasciencesb-sagemaker/datasets/cfa_products/test_images/20190710_variety_1562781084.jpg to data/new_jpeg_images/20190710_variety_1562781084.jpg\n",
      "download: s3://cfa-eadatasciencesb-sagemaker/datasets/cfa_products/test_images/20190710_variety_1562781087.jpg to data/new_jpeg_images/20190710_variety_1562781087.jpg\n",
      "download: s3://cfa-eadatasciencesb-sagemaker/datasets/cfa_products/test_images/20190710_variety_1562781077.jpg to data/new_jpeg_images/20190710_variety_1562781077.jpg\n",
      "download: s3://cfa-eadatasciencesb-sagemaker/datasets/cfa_products/test_images/20190710_variety_1562781079.jpg to data/new_jpeg_images/20190710_variety_1562781079.jpg\n",
      "download: s3://cfa-eadatasciencesb-sagemaker/datasets/cfa_products/test_images/20190710_variety_1562781088.jpg to data/new_jpeg_images/20190710_variety_1562781088.jpg\n",
      "download: s3://cfa-eadatasciencesb-sagemaker/datasets/cfa_products/test_images/20190710_variety_1562781095.jpg to data/new_jpeg_images/20190710_variety_1562781095.jpg\n",
      "download: s3://cfa-eadatasciencesb-sagemaker/datasets/cfa_products/test_images/20190710_variety_1562781089.jpg to data/new_jpeg_images/20190710_variety_1562781089.jpg\n",
      "download: s3://cfa-eadatasciencesb-sagemaker/datasets/cfa_products/test_images/20190710_variety_1562781094.jpg to data/new_jpeg_images/20190710_variety_1562781094.jpg\n",
      "download: s3://cfa-eadatasciencesb-sagemaker/datasets/cfa_products/test_images/20190710_variety_1562781090.jpg to data/new_jpeg_images/20190710_variety_1562781090.jpg\n",
      "download: s3://cfa-eadatasciencesb-sagemaker/datasets/cfa_products/test_images/20190710_variety_1562781096.jpg to data/new_jpeg_images/20190710_variety_1562781096.jpg\n",
      "download: s3://cfa-eadatasciencesb-sagemaker/datasets/cfa_products/test_images/20190710_variety_1562781091.jpg to data/new_jpeg_images/20190710_variety_1562781091.jpg\n",
      "download: s3://cfa-eadatasciencesb-sagemaker/datasets/cfa_products/test_images/20190710_variety_1562781093.jpg to data/new_jpeg_images/20190710_variety_1562781093.jpg\n",
      "download: s3://cfa-eadatasciencesb-sagemaker/datasets/cfa_products/test_images/20190710_variety_1562781099.jpg to data/new_jpeg_images/20190710_variety_1562781099.jpg\n",
      "download: s3://cfa-eadatasciencesb-sagemaker/datasets/cfa_products/test_images/20190710_variety_1562781092.jpg to data/new_jpeg_images/20190710_variety_1562781092.jpg\n",
      "download: s3://cfa-eadatasciencesb-sagemaker/datasets/cfa_products/test_images/20190710_variety_1562781098.jpg to data/new_jpeg_images/20190710_variety_1562781098.jpg\n",
      "download: s3://cfa-eadatasciencesb-sagemaker/datasets/cfa_products/test_images/20190710_variety_1562781102.jpg to data/new_jpeg_images/20190710_variety_1562781102.jpg\n",
      "download: s3://cfa-eadatasciencesb-sagemaker/datasets/cfa_products/test_images/20190710_variety_1562781103.jpg to data/new_jpeg_images/20190710_variety_1562781103.jpg\n",
      "download: s3://cfa-eadatasciencesb-sagemaker/datasets/cfa_products/test_images/20190710_variety_1562781101.jpg to data/new_jpeg_images/20190710_variety_1562781101.jpg\n",
      "download: s3://cfa-eadatasciencesb-sagemaker/datasets/cfa_products/test_images/20190710_variety_1562781106.jpg to data/new_jpeg_images/20190710_variety_1562781106.jpg\n",
      "download: s3://cfa-eadatasciencesb-sagemaker/datasets/cfa_products/test_images/20190710_variety_1562781100.jpg to data/new_jpeg_images/20190710_variety_1562781100.jpg\n",
      "download: s3://cfa-eadatasciencesb-sagemaker/datasets/cfa_products/test_images/20190710_variety_1562781104.jpg to data/new_jpeg_images/20190710_variety_1562781104.jpg\n",
      "download: s3://cfa-eadatasciencesb-sagemaker/datasets/cfa_products/test_images/20190710_variety_1562781108.jpg to data/new_jpeg_images/20190710_variety_1562781108.jpg\n",
      "download: s3://cfa-eadatasciencesb-sagemaker/datasets/cfa_products/test_images/20190710_variety_1562781078.jpg to data/new_jpeg_images/20190710_variety_1562781078.jpg\n"
     ]
    },
    {
     "name": "stdout",
     "output_type": "stream",
     "text": [
      "download: s3://cfa-eadatasciencesb-sagemaker/datasets/cfa_products/test_images/20190710_variety_1562781109.jpg to data/new_jpeg_images/20190710_variety_1562781109.jpg\n",
      "download: s3://cfa-eadatasciencesb-sagemaker/datasets/cfa_products/test_images/20190710_variety_1562781110.jpg to data/new_jpeg_images/20190710_variety_1562781110.jpg\n",
      "download: s3://cfa-eadatasciencesb-sagemaker/datasets/cfa_products/test_images/20190710_variety_1562781086.jpg to data/new_jpeg_images/20190710_variety_1562781086.jpg\n",
      "download: s3://cfa-eadatasciencesb-sagemaker/datasets/cfa_products/test_images/20190710_variety_1562781097.jpg to data/new_jpeg_images/20190710_variety_1562781097.jpg\n",
      "download: s3://cfa-eadatasciencesb-sagemaker/datasets/cfa_products/test_images/20190710_variety_1562781105.jpg to data/new_jpeg_images/20190710_variety_1562781105.jpg\n",
      "download: s3://cfa-eadatasciencesb-sagemaker/datasets/cfa_products/test_images/20190710_variety_1562781111.jpg to data/new_jpeg_images/20190710_variety_1562781111.jpg\n",
      "download: s3://cfa-eadatasciencesb-sagemaker/datasets/cfa_products/test_images/20190710_variety_1562781112.jpg to data/new_jpeg_images/20190710_variety_1562781112.jpg\n",
      "download: s3://cfa-eadatasciencesb-sagemaker/datasets/cfa_products/test_images/20190710_variety_1562781107.jpg to data/new_jpeg_images/20190710_variety_1562781107.jpg\n",
      "download: s3://cfa-eadatasciencesb-sagemaker/datasets/cfa_products/test_images/20190710_variety_1562781114.jpg to data/new_jpeg_images/20190710_variety_1562781114.jpg\n",
      "download: s3://cfa-eadatasciencesb-sagemaker/datasets/cfa_products/test_images/20190710_variety_1562781085.jpg to data/new_jpeg_images/20190710_variety_1562781085.jpg\n",
      "download: s3://cfa-eadatasciencesb-sagemaker/datasets/cfa_products/test_images/20190710_variety_1562781113.jpg to data/new_jpeg_images/20190710_variety_1562781113.jpg\n",
      "download: s3://cfa-eadatasciencesb-sagemaker/datasets/cfa_products/test_images/20190710_variety_1562781115.jpg to data/new_jpeg_images/20190710_variety_1562781115.jpg\n"
     ]
    }
   ],
   "source": [
    "# version 2\n",
    "! aws2 s3 cp {S3_TEST_IMAGES} {IMAGE_DIR} --recursive"
   ]
  },
  {
   "cell_type": "markdown",
   "metadata": {},
   "source": [
    "## Detect\n",
    "The detect.py script will read a directory of images, infer and generate XML (unverified) Annotations (VOC PASCAL schema).    Unverified means if you run them through a labeling program like labelImg, they do not have the verified attribute.    (Downstream, they will be ignored if you try to fold them into training data.)"
   ]
  },
  {
   "cell_type": "code",
   "execution_count": null,
   "metadata": {},
   "outputs": [],
   "source": [
    "! python code/detect.py --image_dir {IMAGE_DIR} --model_name {MODEL_NAME} --model_path {MODEL_PATH} --label_map_path {LABEL_MAP} --display {DISPLAY} --annotation_dir {ANNOTATION_DIR}"
   ]
  },
  {
   "cell_type": "code",
   "execution_count": null,
   "metadata": {},
   "outputs": [],
   "source": [
    "# tarball the annotations\n",
    "os.chdir(\"data\")\n",
    "! tar -czvf  unverif_annotations.tar.gz unverified_annotations"
   ]
  },
  {
   "cell_type": "markdown",
   "metadata": {},
   "source": [
    "## Conclusion\n",
    "\n",
    "If you want the annotations - you'll find the annotations tarball in data/ directory\n",
    "use the Notebook browser to download it\n",
    "\n",
    "The fastest, easiest way to review (and correct / verify) is to use labelImg program which will merge the image and annotation\n",
    "\n",
    "The main conclusion here is our model works."
   ]
  },
  {
   "cell_type": "code",
   "execution_count": null,
   "metadata": {},
   "outputs": [],
   "source": []
  }
 ],
 "metadata": {
  "kernelspec": {
   "display_name": "Python (tensorRT)",
   "language": "python",
   "name": "tensorrt"
  },
  "language_info": {
   "codemirror_mode": {
    "name": "ipython",
    "version": 3
   },
   "file_extension": ".py",
   "mimetype": "text/x-python",
   "name": "python",
   "nbconvert_exporter": "python",
   "pygments_lexer": "ipython3",
   "version": "3.6.10"
  }
 },
 "nbformat": 4,
 "nbformat_minor": 2
}
