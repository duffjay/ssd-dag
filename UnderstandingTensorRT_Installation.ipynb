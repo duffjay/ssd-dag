{
 "cells": [
  {
   "cell_type": "markdown",
   "metadata": {},
   "source": [
    "# TensorRT - Installation\n",
    "\n",
    "Start with an understanding of your model and the TensorFlow versions - which leads to the CUDA versions.   If on SageMaker - this will not be super flexible.   AWS may be lagging on TF version.\n",
    "\n",
    "IMPORTANT NOTE \n",
    "- use deb (dpkg) on Ubuntu\n",
    "- use rpm (yum) on AWS Linux\n",
    "\n",
    "I learned the hardway - if you use the *.run files, which looks easier - it may not register the packages correctly\n",
    "\n",
    "### READ THE DOCUMENTATION CAREFULLY\n",
    "https://docs.nvidia.com/deeplearning/sdk/tensorrt-install-guide/index.html\n",
    "TensorFlow 1.14 required  \n",
    "CUDA 10.0 or 10.2 required -- 10.1 NOT supported (and just guess what version we have!)\n",
    "So problem - how do you get SageMaker to use CUDA 10.0 an the 410 driver?  \n",
    "\n",
    "\n",
    "### TensorRT version 7.0 \n",
    "### CUDA 10.0 w/ driver 410\n",
    "Instructions dictate TensorFlow 1.14  & CUDA 10.1 is NOT supported.   There are good instructions on CFA Confluence for installing CUDA 10.0, cuDNN and the 410 driver.   Go there if you need help."
   ]
  },
  {
   "cell_type": "markdown",
   "metadata": {},
   "source": [
    "## Using a physical computer\n",
    "e.g.   REV Center - Inspiron, tag: DTK2*\n",
    "    \n",
    "Use SageMaker if you can to avoid this hassle - but... I'm stuck so I'm back to a computer.   Here are some things you may have to deal with.   You need to do this before you can get started -- even with this notebook."
   ]
  },
  {
   "cell_type": "markdown",
   "metadata": {},
   "source": [
    "#### update conda\n",
    "RUN these from terminal - don't run them here.   I'm just documenting here  \n",
    "`conda update -n base -c defaults conda`  \n",
    "\n",
    "My Anaconda was totally hosed - I had re-install\n",
    "`rm -rf ~/anaconda3`  \n",
    "`bash ./Anaconda3-2019.10-Linux-x86_64.sh -u`  \n",
    "\n",
    "Add your environments (all with Python 3.7)  \n",
    "Using anaconda-navigator GUI - I added:  \n",
    "tensorRT - note, I used TF 1.14 because SageMaker uses 1.14.  TensorRT wants a frozen graph.   \n",
    "20200113 - Instructuions say \"TensorFlow export requires 1.14.0\"  \n",
    "\n",
    "`source activate tensorRT`  \n",
    "`pip instal tensorflow-gpu==1.14`  \n",
    "`python -m ipykernel install --user --name tensorRT --display-name \"Python (tensorRT)\"`  \n",
    "\n",
    "THIS NOTEBOOK SHOULD BE RUNNING ON tensorRT environment (so this is kind of a catch-22)"
   ]
  },
  {
   "cell_type": "markdown",
   "metadata": {},
   "source": [
    "### Back to General Instructions\n",
    "Regardless of SageMaker or Physical Computer"
   ]
  },
  {
   "cell_type": "code",
   "execution_count": null,
   "metadata": {},
   "outputs": [],
   "source": [
    "# this will show you your CUDA version and driver version\n",
    "# note that nvcc is NOT installed\n",
    "\n",
    "# the symbol, cuda, is pointing to cuda-10.0\n",
    "! ls /usr/local -la\n",
    "\n",
    "# BUT, nvidia-smi says 10.1\n",
    "! nvidia-smi\n",
    "\n",
    "# I learned the hardway, that means CUDA 10.1 is installed - so install TensorRT for 10.1\n",
    "# you can ignore the symbol (cuda) for now"
   ]
  },
  {
   "cell_type": "markdown",
   "metadata": {},
   "source": [
    "### verify you have cuDNN installed\n",
    "- hmm, seems this is difficult\n",
    "\n",
    "#### 1.  NVIDIA says to download the samples then make the mnist file and test it\n",
    "that is several steps - but it is straight forward\n",
    "\n",
    "#### 2.  $ locate - do this from terminal \n",
    "`sudo updatedb`  \n",
    "`locate libcudnn`  \n",
    "\n",
    "#### 3.  this method seems to be obsolete - it will give you a false negative\n",
    "`cat /usr/local/cuda/include/cudnn.h | grep CUDNN_MAJOR -A 2`  \n",
    "\n",
    "#### 4.  after installing 7.6.5, this would work\n",
    "`ls /usr/lib/x86_64-linux-gnu/libcudnn.so.7.6.5`  "
   ]
  },
  {
   "cell_type": "code",
   "execution_count": null,
   "metadata": {},
   "outputs": [],
   "source": [
    "# we shouldn't do anything that requires tensorflow - but let's check it\n",
    "import tensorflow as tf\n",
    "print (tf.__version__)"
   ]
  },
  {
   "cell_type": "code",
   "execution_count": null,
   "metadata": {},
   "outputs": [],
   "source": [
    "# verify cuBLAS (part of the CUDA toolkit) is installed\n",
    "! cat /usr/local/cuda/include/cublas.h | grep CUBLAS"
   ]
  },
  {
   "cell_type": "markdown",
   "metadata": {},
   "source": [
    "### PyCUDA\n",
    "Instructions say you need PyCUDA - which goes on to say, get your CUDA & Driver installed first, then install PyCUDA.   And if you have problems, you may have to compile it yourself  :(  \n",
    "\n",
    "From your tensorRT environment (tensorRT) ... $  \n",
    "` pip install 'pycuda>=2019.1.1'`"
   ]
  },
  {
   "cell_type": "markdown",
   "metadata": {},
   "source": [
    "### 20200113 - on SageMaker p2\n",
    "Tensorflow 1.14.0  \n",
    "CUDA 10.1  \n",
    "NVIDIA Driver 418.87  \n",
    "\n",
    "So we \n"
   ]
  },
  {
   "cell_type": "code",
   "execution_count": null,
   "metadata": {},
   "outputs": [],
   "source": [
    "import os"
   ]
  },
  {
   "cell_type": "code",
   "execution_count": null,
   "metadata": {},
   "outputs": [],
   "source": [
    "# Globals\n",
    "\n",
    "PROJECT_DIR = os.getcwd()\n",
    "BUCKET = 's3://cfaanalyticsresearch-sagemaker'\n",
    "\n",
    "SAGEMAKER_DIR = os.path.join(PROJECT_DIR, \"..\")\n"
   ]
  },
  {
   "cell_type": "markdown",
   "metadata": {},
   "source": [
    "## Get the TensorRT software\n",
    "\n",
    "https://developer.nvidia.com/nvidia-tensorrt-7x-download\n",
    "### Installation Instructions\n",
    "https://docs.nvidia.com/deeplearning/sdk/tensorrt-archived/tensorrt-700/tensorrt-install-guide/index.html  \n",
    "   \n",
    "\n",
    "928 MB This will not go well if you are on CFA network !!!!\n",
    "  - leverage a Workspace if possible (super fast)\n",
    "  - use a curl command (I didn't figure this out) - downloading directly to SageMaker should be fast\n",
    "  - use S3 (I put current packages on the cfaanalyticsresearch-sagemaker/software\n",
    "  - Don't download over CFA/COWS to your computer then upload!! it will fail\n",
    "For SageMaker:  get a RPM package (20200113) CentOS/RedHat 7 CUDA 10.0  \n",
    "For Ubuntu: get the deb package"
   ]
  },
  {
   "cell_type": "code",
   "execution_count": null,
   "metadata": {},
   "outputs": [],
   "source": [
    "# SageMaker\n",
    "# - upload the RPM package to the SageMaker directory; \n",
    "\n",
    "# look in S3\n",
    "! aws s3 ls {BUCKET}/software/\n",
    "\n",
    "# download to SageMaker directory\n",
    "# - you only have to do this once\n",
    "# - but you'll need to install every time you reboot\n",
    "\n",
    "# TensorRT\n",
    "! aws s3 cp {BUCKET}/software/ {SAGEMAKER_DIR} --exclude \"*.*\" --include \"nv-tensorrt-repo-rhel7-cuda10.0-trt7*.rpm\" --recursive"
   ]
  },
  {
   "cell_type": "code",
   "execution_count": null,
   "metadata": {},
   "outputs": [],
   "source": [
    "# Physical Computer\n",
    "# - I pulled the image off the USB\n",
    "# put it in ~/Downloads\n",
    "# DON'T FORGET - on the laptop (which is Ubuntu), you want the Ubuntu version\n",
    "# nv-tensorrt-repo-ubuntu1804-cuda10.0*.deb"
   ]
  },
  {
   "cell_type": "markdown",
   "metadata": {},
   "source": [
    "### SageMaker Installation\n",
    "Read 4.2 for RPM installation  \n",
    "Jupyter won't keep the variable names correctly so,  cut paste this into the terminal.  \n",
    "- open a Jupyter terminal\n",
    "- go to SageMaker directory\n",
    "\n",
    "c\n",
    "Pre-requisites\n",
    "Error: Package: libnvinfer7-7.0.0-1.cuda10.0.x86_64 (nv-tensorrt-cuda10.0-trt7.0.0.11-ga-20191216)\n",
    "           Requires: cuda-cublas-10-0\n",
    "Error: Package: libnvinfer-devel-7.0.0-1.cuda10.0.x86_64 (nv-tensorrt-cuda10.0-trt7.0.0.11-ga-20191216)\n",
    "           Requires: cuda-cublas-dev-10-0\n",
    "Error: Package: libnvinfer-devel-7.0.0-1.cuda10.0.x86_64 (nv-tensorrt-cuda10.0-trt7.0.0.11-ga-20191216)\n",
    "           Requires: cuda-cudart-dev-10-0\n",
    "Error: Package: libnvinfer7-7.0.0-1.cuda10.0.x86_64 (nv-tensorrt-cuda10.0-trt7.0.0.11-ga-20191216)\n",
    "           Requires: cuda-cudart-10-0\n",
    "           \n",
    "`wget http://developer.download.nvidia.com/compute/cuda/10.2/Prod/local_installers/cuda_10.2.89_440.33.01_linux.run`\n",
    "`sudo sh cuda_10.2.89_440.33.01_linux.run`         \n",
    "\n",
    "\n",
    "CUDA Toolkit (to get cuBLAS-10.0)\n",
    "https://developer.nvidia.com/cuda-10.0-download-archive  \n",
    "I put 10.1 on S3 and you downloaded it above - so you just have to install.  \n",
    "`sudo rpm -i cuda-repo-rhel7-10-1-local-10.1.105-418.39-1.0-1.x86_64.rpm`  \n",
    "`sudo yum clean all`  \n",
    "`sudo yum install cuda`  \n",
    "\n",
    "Get the tag value from the current version (file) you downloaded \n",
    "\n",
    "`tag=\"cuda10.0-trt7.0.0.11-ga-20191216\"`  \n",
    "`sudo rpm -Uvh nv-tensorrt-repo-rhel7-${tag}-1-1.x86_64.rpm`  \n",
    "`sudo yum clean expire-cache`  "
   ]
  },
  {
   "cell_type": "markdown",
   "metadata": {},
   "source": [
    "### Ubuntu Installation\n",
    "WARNING - be VERY careful with the punctuation here - it MATTERS!  ticks, right ticks, quotes - etc  \n",
    "`tag=\"cuda10.0-trt7.0.0.11-ga-20191216\"`  \n",
    "`sudo dpkg -i nv-tensorrt-repo-${os}-${tag}_1-1_amd64.deb`  \n",
    "`sudo apt-key add /var/nv-tensorrt-repo-${tag}/7fa2af80.pub` \n",
    "\n",
    "`sudo apt-get update`  \n",
    "`sudo apt-get install tensorrt`\n",
    "\n",
    "`sudo apt-get install python3-libnvinfer-dev`  \n",
    "`sudo apt-get install uff-converter-tf`  \n",
    "\n",
    "`dpkg -l | grep TensorRT`  \n"
   ]
  },
  {
   "cell_type": "code",
   "execution_count": null,
   "metadata": {},
   "outputs": [],
   "source": []
  }
 ],
 "metadata": {
  "kernelspec": {
   "display_name": "Python (tensorRT)",
   "language": "python",
   "name": "tensorrt"
  },
  "language_info": {
   "codemirror_mode": {
    "name": "ipython",
    "version": 3
   },
   "file_extension": ".py",
   "mimetype": "text/x-python",
   "name": "python",
   "nbconvert_exporter": "python",
   "pygments_lexer": "ipython3",
   "version": "3.7.6"
  }
 },
 "nbformat": 4,
 "nbformat_minor": 2
}
