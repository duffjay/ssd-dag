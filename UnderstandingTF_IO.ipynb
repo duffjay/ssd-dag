{
 "cells": [
  {
   "cell_type": "markdown",
   "metadata": {},
   "source": [
    "# Understanding\n",
    "## TensorFlow tf.io API for Python\n",
    "\n",
    "https://www.tensorflow.org/api_docs/python/tf/io\n",
    "\n",
    "be careful with version v1.14 & v2.0\n",
    "\n",
    "Why - These standard routines will help you with file I/O and creating data for TensorFlow.  Use these utilities wherever possible!!\n"
   ]
  },
  {
   "cell_type": "code",
   "execution_count": null,
   "metadata": {},
   "outputs": [],
   "source": [
    "import os, sys\n",
    "import json\n",
    "import numpy as np\n",
    "import cv2\n",
    "\n",
    "import tensorflow as tf\n",
    "from matplotlib import pyplot as plt"
   ]
  },
  {
   "cell_type": "code",
   "execution_count": null,
   "metadata": {},
   "outputs": [],
   "source": [
    "# This is needed to display the images.\n",
    "%matplotlib inline"
   ]
  },
  {
   "cell_type": "code",
   "execution_count": null,
   "metadata": {},
   "outputs": [],
   "source": [
    "# GLOBALs\n",
    "\n",
    "PROJECT_DIR = os.getcwd()\n",
    "IMAGE_DIR = os.path.join(PROJECT_DIR, \"data/jpeg_images\")\n",
    "SAMPLE_IMAGE = \"20190710_variety_1562781002.jpg\"\n",
    "\n",
    "MODEL_PATH = os.path.join(PROJECT_DIR, \"trained_model/export/Servo/1564865938\")\n",
    "LABEL_MAP = os.path.join(PROJECT_DIR, \"code/cfa_prod_label_map.pbtxt\")\n",
    "\n",
    "# you can get data using the TrainModel_Step1_Local notebook\n",
    "TEST_TFRECORDS_PATH =  os.path.join(PROJECT_DIR, \"code/tfrecords/test/\")\n",
    "                                    \n",
    "SAMPLE_IMAGE = \"/home/ec2-user/SageMaker/ssd-dag/data/jpeg_images/20190710_variety_1562781002.jpg\""
   ]
  },
  {
   "cell_type": "markdown",
   "metadata": {},
   "source": [
    "### tf.io.gfile\n",
    "\n",
    "https://www.tensorflow.org/versions/r2.0/api_docs/python/tf/io/gfile\n",
    "\n",
    "Note that common file i/o commands can be accomplished with this class"
   ]
  },
  {
   "cell_type": "code",
   "execution_count": null,
   "metadata": {},
   "outputs": [],
   "source": [
    "# simple directory list\n",
    "file_list = tf.io.gfile.listdir(IMAGE_DIR)\n",
    "file_list_length = len(file_list)\n",
    "print (\"directory list length:\", file_list_length)"
   ]
  },
  {
   "cell_type": "code",
   "execution_count": null,
   "metadata": {},
   "outputs": [],
   "source": [
    "# directory list based on a glob\n",
    "glob = IMAGE_DIR + '/*9.jpg'\n",
    "print (glob)\n",
    "file_list = tf.io.gfile.glob(glob)\n",
    "file_list_length = len(file_list)\n",
    "print (\"directory list length:\", file_list_length)\n",
    "sample_image = file_list[0]\n",
    "\n",
    "# note - full path \n",
    "print (sample_image)"
   ]
  },
  {
   "cell_type": "code",
   "execution_count": null,
   "metadata": {},
   "outputs": [],
   "source": [
    "# read an image - encoded_jpg is type=bytes\n",
    "# sample_image - from above, not SAMPLE_IMAGE - the global\n",
    "\n",
    "with tf.io.gfile.GFile(sample_image, 'rb') as fid:\n",
    "    encoded_jpg = fid.read()\n",
    "print (\"encoded_jpg:\", type(encoded_jpg))  # bytes"
   ]
  },
  {
   "cell_type": "markdown",
   "metadata": {},
   "source": [
    "### Read Image Comparison\n",
    "- tf.io.gfile.GFile => encoded bytes\n",
    "- tf.io.read_file   => Tensor\n",
    "- tf.keras...       => PIL.Image.Image"
   ]
  },
  {
   "cell_type": "code",
   "execution_count": null,
   "metadata": {},
   "outputs": [],
   "source": [
    "# tf.io.read_file\n",
    "image = tf.io.read_file(sample_image)\n",
    "print (\"tf.io.read_file:\", type(image))"
   ]
  },
  {
   "cell_type": "markdown",
   "metadata": {},
   "source": [
    "### tf.keras\n",
    "better for manipulating the data, shape, type"
   ]
  },
  {
   "cell_type": "code",
   "execution_count": null,
   "metadata": {},
   "outputs": [],
   "source": [
    "# tf.keras\n",
    "image = tf.keras.preprocessing.image.load_img(sample_image, target_size=[300, 300])\n",
    "print (type(image))\n",
    "plt.imshow(image)\n",
    "plt.axis('off')"
   ]
  },
  {
   "cell_type": "code",
   "execution_count": null,
   "metadata": {},
   "outputs": [],
   "source": [
    "# convert PIL.Image.Image => numpy array\n",
    "# - Normalized\n",
    "x = tf.keras.preprocessing.image.img_to_array(image)\n",
    "print (type(x), x.shape)"
   ]
  },
  {
   "cell_type": "code",
   "execution_count": null,
   "metadata": {},
   "outputs": [],
   "source": [
    "# preprocess - as req'd by MobileNet - to get add the instance dimension\n",
    "x32 = tf.keras.applications.mobilenet.preprocess_input(x[tf.newaxis,...])\n",
    "print (\"x32:\", type(x32), x32.shape, x32.dtype)\n",
    "print (\"one pixel RGB - normalized:\", x32[0,1,1,])"
   ]
  },
  {
   "cell_type": "code",
   "execution_count": null,
   "metadata": {},
   "outputs": [],
   "source": [
    "# unsigned 8 bit\n",
    "x8 = x32.astype(np.uint8)\n",
    "print (\"x8:\", type(x8), x8.shape, x8.dtype)\n",
    "print (\"one pixel RGB - uint8:\", x8[0,1,1,])"
   ]
  },
  {
   "cell_type": "markdown",
   "metadata": {},
   "source": [
    "## jpeg utilities"
   ]
  },
  {
   "cell_type": "code",
   "execution_count": null,
   "metadata": {},
   "outputs": [],
   "source": [
    "# takes a byte string\n",
    "with tf.io.gfile.GFile(sample_image, 'rb') as fid:\n",
    "    encoded_jpg = fid.read()\n",
    "tf.io.is_jpeg(encoded_jpg)"
   ]
  },
  {
   "cell_type": "code",
   "execution_count": null,
   "metadata": {},
   "outputs": [],
   "source": [
    "false_image = b'12345'\n",
    "tf.io.is_jpeg(false_image)"
   ]
  },
  {
   "cell_type": "code",
   "execution_count": null,
   "metadata": {},
   "outputs": [],
   "source": []
  }
 ],
 "metadata": {
  "kernelspec": {
   "display_name": "conda_tensorflow_p36",
   "language": "python",
   "name": "conda_tensorflow_p36"
  },
  "language_info": {
   "codemirror_mode": {
    "name": "ipython",
    "version": 3
   },
   "file_extension": ".py",
   "mimetype": "text/x-python",
   "name": "python",
   "nbconvert_exporter": "python",
   "pygments_lexer": "ipython3",
   "version": "3.6.5"
  }
 },
 "nbformat": 4,
 "nbformat_minor": 2
}
